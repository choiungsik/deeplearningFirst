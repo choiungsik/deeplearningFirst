{
 "cells": [
  {
   "cell_type": "code",
   "execution_count": 39,
   "metadata": {},
   "outputs": [],
   "source": [
    "from tensorflow.keras.layers import Dense\n",
    "from tensorflow.keras.models import Sequential\n",
    "from tensorflow.keras.models import load_model\n",
    "from tensorflow.keras.callbacks import ModelCheckpoint\n",
    "from tensorflow.keras.callbacks import EarlyStopping\n",
    "from tensorflow.keras.datasets import mnist\n",
    "import numpy as np\n",
    "import pandas as pd\n",
    "import seaborn as sns\n",
    "import tensorflow as tf\n",
    "import matplotlib.pyplot as plt\n",
    "from sklearn.model_selection import train_test_split"
   ]
  },
  {
   "cell_type": "markdown",
   "metadata": {},
   "source": [
    "## 1. 문제확인\n",
    "- 손글씨 이미지 데이터를 활용하여 0~9까지 숫자중 어떤 숫자인지를 예측하기\n",
    "- 분류 / 지도학습"
   ]
  },
  {
   "cell_type": "markdown",
   "metadata": {},
   "source": [
    "## 2. 데이터수집\n",
    "1. MINIST데이터\n",
    "    - 간단한 실험부터 논문까지 다양한 분야에 활용되는 데이터셋\n",
    "    - 손글씨 숫자 이미지 집합\n",
    "    - 0~9까지 숫자이미지로 구성(훈련이미지 60000장, 데이트이미지 10000장)\n",
    "    - 이미지 특징(gray-level이미지, 28x28 size, 이미지별 숫자 레이블링되어있음)"
   ]
  },
  {
   "cell_type": "code",
   "execution_count": 4,
   "metadata": {},
   "outputs": [
    {
     "name": "stdout",
     "output_type": "stream",
     "text": [
      "Downloading data from https://storage.googleapis.com/tensorflow/tf-keras-datasets/mnist.npz\n",
      "11493376/11490434 [==============================] - 0s 0us/step\n"
     ]
    }
   ],
   "source": [
    "((X_train, y_train), (X_test,y_test)) = mnist.load_data()"
   ]
  },
  {
   "cell_type": "code",
   "execution_count": 7,
   "metadata": {},
   "outputs": [
    {
     "data": {
      "text/plain": [
       "((60000, 28, 28), (60000,), (10000, 28, 28), (10000,))"
      ]
     },
     "execution_count": 7,
     "metadata": {},
     "output_type": "execute_result"
    }
   ],
   "source": [
    "X_train.shape, y_train.shape,X_test.shape,y_test.shape,"
   ]
  },
  {
   "cell_type": "code",
   "execution_count": 8,
   "metadata": {},
   "outputs": [
    {
     "data": {
      "text/plain": [
       "<matplotlib.image.AxesImage at 0x1e28d390e88>"
      ]
     },
     "execution_count": 8,
     "metadata": {},
     "output_type": "execute_result"
    },
    {
     "data": {
      "image/png": "[encoded data removed]",
      "text/plain": [
       "<Figure size 432x288 with 1 Axes>"
      ]
     },
     "metadata": {
      "needs_background": "light"
     },
     "output_type": "display_data"
    }
   ],
   "source": [
    "plt.imshow(X_train[13])"
   ]
  },
  {
   "cell_type": "code",
   "execution_count": 9,
   "metadata": {},
   "outputs": [
    {
     "name": "stdout",
     "output_type": "stream",
     "text": [
      "[[  0   0   0   0   0   0   0   0   0   0   0   0   0   0   0   0   0   0\n",
      "    0   0   0   0   0   0   0   0   0   0]\n",
      " [  0   0   0   0   0   0   0   0   0   0   0   0   0   0   0   0   0   0\n",
      "    0   0   0   0   0   0   0   0   0   0]\n",
      " [  0   0   0   0   0   0   0   0   0   0   0   0   0   0   0   0  38 222\n",
      "  225   0   0   0   0   0   0   0   0   0]\n",
      " [  0   0   0   0   0   0   0   0   0   0   0   0   0   0   0 147 234 252\n",
      "  176   0   0   0   0   0   0   0   0   0]\n",
      " [  0   0   0   0   0   0   0   0   0   0   0   0   0  23 197 253 252 208\n",
      "   19   0   0   0   0   0   0   0   0   0]\n",
      " [  0   0   0   0   0   0   0   0   0   0   0   0  38 178 252 253 117  65\n",
      "    0   0   0   0   0   0   0   0   0   0]\n",
      " [  0   0   0   0   0   0   0   0   0   0   0   0  57 252 252 253  89   0\n",
      "    0   0   0   0   0   0   0   0   0   0]\n",
      " [  0   0   0   0   0   0   0   0   0   0   0  38 222 253 253  79   0   0\n",
      "    0   0   0   0   0   0   0   0   0   0]\n",
      " [  0   0   0   0   0   0   0   0   0   0   0 131 252 179  27   0   0   0\n",
      "    0   0   0   0   0   0   0   0   0   0]\n",
      " [  0   0   0   0   0   0   0   0   0   0 198 246 220  37   0   0   0   0\n",
      "    0   0   0   0   0   0   0   0   0   0]\n",
      " [  0   0   0   0   0   0   0   0   0  79 253 252 135  28   0   0   0   0\n",
      "    0   0   0   0   0   0   0   0   0   0]\n",
      " [  0   0   0   0   0   0   0   0  16 140 253 252 118   0   0   0   0 111\n",
      "  140 140   0   0   0   0   0   0   0   0]\n",
      " [  0   0   0   0   0   0   0   0  13 191 255 253  56   0   0 114 113 222\n",
      "  253 253 255  27   0   0   0   0   0   0]\n",
      " [  0   0   0   0   0   0   0   0  76 252 253 223  37   0  48 174 252 252\n",
      "  242 214 253 199  31   0   0   0   0   0]\n",
      " [  0   0   0   0   0   0   0  13 109 252 228 130   0  38 165 253 233 164\n",
      "   49  63 253 214  31   0   0   0   0   0]\n",
      " [  0   0   0   0   0   0   0  73 252 252 126   0  23 178 252 240 148   7\n",
      "   44 215 240 148   0   0   0   0   0   0]\n",
      " [  0   0   0   0   0   0   0 119 252 252   0   0 197 252 252  63   0  57\n",
      "  252 252 140   0   0   0   0   0   0   0]\n",
      " [  0   0   0   0   0   0   0 135 253 174   0  48 229 253 112   0  38 222\n",
      "  253 112   0   0   0   0   0   0   0   0]\n",
      " [  0   0   0   0   0   0   0 135 252 173   0  48 227 252 158 226 234 201\n",
      "   27  12   0   0   0   0   0   0   0   0]\n",
      " [  0   0   0   0   0   0   0  57 252 252  57 104 240 252 252 253 233  74\n",
      "    0   0   0   0   0   0   0   0   0   0]\n",
      " [  0   0   0   0   0   0   0  51 242 252 253 252 252 252 252 240 148   0\n",
      "    0   0   0   0   0   0   0   0   0   0]\n",
      " [  0   0   0   0   0   0   0   0  75 189 253 252 252 157 112  63   0   0\n",
      "    0   0   0   0   0   0   0   0   0   0]\n",
      " [  0   0   0   0   0   0   0   0   0   0   0   0   0   0   0   0   0   0\n",
      "    0   0   0   0   0   0   0   0   0   0]\n",
      " [  0   0   0   0   0   0   0   0   0   0   0   0   0   0   0   0   0   0\n",
      "    0   0   0   0   0   0   0   0   0   0]\n",
      " [  0   0   0   0   0   0   0   0   0   0   0   0   0   0   0   0   0   0\n",
      "    0   0   0   0   0   0   0   0   0   0]\n",
      " [  0   0   0   0   0   0   0   0   0   0   0   0   0   0   0   0   0   0\n",
      "    0   0   0   0   0   0   0   0   0   0]\n",
      " [  0   0   0   0   0   0   0   0   0   0   0   0   0   0   0   0   0   0\n",
      "    0   0   0   0   0   0   0   0   0   0]\n",
      " [  0   0   0   0   0   0   0   0   0   0   0   0   0   0   0   0   0   0\n",
      "    0   0   0   0   0   0   0   0   0   0]]\n"
     ]
    }
   ],
   "source": [
    "print(X_train[13])"
   ]
  },
  {
   "cell_type": "markdown",
   "metadata": {},
   "source": [
    "## 3. 데이터전처리"
   ]
  },
  {
   "cell_type": "code",
   "execution_count": 11,
   "metadata": {},
   "outputs": [
    {
     "data": {
      "text/plain": [
       "(60000, 784)"
      ]
     },
     "execution_count": 11,
     "metadata": {},
     "output_type": "execute_result"
    }
   ],
   "source": [
    "X_train.reshape(60000, 28*28).shape"
   ]
  },
  {
   "cell_type": "code",
   "execution_count": 30,
   "metadata": {},
   "outputs": [],
   "source": [
    "# 데이터직렬화\n",
    "# 2차원이미지 데이터를 1차원 데이터로 변환\n",
    "X_train_reshape = X_train.reshape(X_train.shape[0], X_train.shape[1]*X_train.shape[2])\n",
    "X_test_reshape = X_test.reshape(X_test.shape[0], X_test.shape[1]*X_test.shape[2])\n",
    "# X_train_reshape = X_train.reshape(X_train.shape[0], -1)  컴퓨터에게 나머지 정보로 알아서 맞추도록 하는 -1"
   ]
  },
  {
   "cell_type": "code",
   "execution_count": 31,
   "metadata": {},
   "outputs": [
    {
     "data": {
      "text/plain": [
       "((60000, 784), (10000, 784))"
      ]
     },
     "execution_count": 31,
     "metadata": {},
     "output_type": "execute_result"
    }
   ],
   "source": [
    "X_train_reshape.shape, X_test_reshape.shape"
   ]
  },
  {
   "cell_type": "code",
   "execution_count": 29,
   "metadata": {},
   "outputs": [
    {
     "name": "stdout",
     "output_type": "stream",
     "text": [
      "[  0   0   0   0   0   0   0   0   0   0   0   0   0   0   0   0   0   0\n",
      "   0   0   0   0   0   0   0   0   0   0   0   0   0   0   0   0   0   0\n",
      "   0   0   0   0   0   0   0   0   0   0   0   0   0   0   0   0   0   0\n",
      "   0   0   0   0   0   0   0   0   0   0   0   0   0   0   0   0   0   0\n",
      "   0   0   0   0   0   0   0   0   0   0   0   0   0   0   0   0   0   0\n",
      "   0   0   0   0   0   0   0   0   0   0   0   0   0   0   0   0   0   0\n",
      "   0   0   0   0   0   0   0   0   0   0   0   0   0   0   0   0   0   0\n",
      "   0  51 159 253 159  50   0   0   0   0   0   0   0   0   0   0   0   0\n",
      "   0   0   0   0   0   0   0   0   0   0  48 238 252 252 252 237   0   0\n",
      "   0   0   0   0   0   0   0   0   0   0   0   0   0   0   0   0   0   0\n",
      "   0  54 227 253 252 239 233 252  57   6   0   0   0   0   0   0   0   0\n",
      "   0   0   0   0   0   0   0   0   0  10  60 224 252 253 252 202  84 252\n",
      " 253 122   0   0   0   0   0   0   0   0   0   0   0   0   0   0   0   0\n",
      "   0 163 252 252 252 253 252 252  96 189 253 167   0   0   0   0   0   0\n",
      "   0   0   0   0   0   0   0   0   0   0  51 238 253 253 190 114 253 228\n",
      "  47  79 255 168   0   0   0   0   0   0   0   0   0   0   0   0   0   0\n",
      "   0  48 238 252 252 179  12  75 121  21   0   0 253 243  50   0   0   0\n",
      "   0   0   0   0   0   0   0   0   0   0  38 165 253 233 208  84   0   0\n",
      "   0   0   0   0 253 252 165   0   0   0   0   0   0   0   0   0   0   0\n",
      "   0   7 178 252 240  71  19  28   0   0   0   0   0   0 253 252 195   0\n",
      "   0   0   0   0   0   0   0   0   0   0   0  57 252 252  63   0   0   0\n",
      "   0   0   0   0   0   0 253 252 195   0   0   0   0   0   0   0   0   0\n",
      "   0   0   0 198 253 190   0   0   0   0   0   0   0   0   0   0 255 253\n",
      " 196   0   0   0   0   0   0   0   0   0   0   0  76 246 252 112   0   0\n",
      "   0   0   0   0   0   0   0   0 253 252 148   0   0   0   0   0   0   0\n",
      "   0   0   0   0  85 252 230  25   0   0   0   0   0   0   0   0   7 135\n",
      " 253 186  12   0   0   0   0   0   0   0   0   0   0   0  85 252 223   0\n",
      "   0   0   0   0   0   0   0   7 131 252 225  71   0   0   0   0   0   0\n",
      "   0   0   0   0   0   0  85 252 145   0   0   0   0   0   0   0  48 165\n",
      " 252 173   0   0   0   0   0   0   0   0   0   0   0   0   0   0  86 253\n",
      " 225   0   0   0   0   0   0 114 238 253 162   0   0   0   0   0   0   0\n",
      "   0   0   0   0   0   0   0   0  85 252 249 146  48  29  85 178 225 253\n",
      " 223 167  56   0   0   0   0   0   0   0   0   0   0   0   0   0   0   0\n",
      "  85 252 252 252 229 215 252 252 252 196 130   0   0   0   0   0   0   0\n",
      "   0   0   0   0   0   0   0   0   0   0  28 199 252 252 253 252 252 233\n",
      " 145   0   0   0   0   0   0   0   0   0   0   0   0   0   0   0   0   0\n",
      "   0   0   0  25 128 252 253 252 141  37   0   0   0   0   0   0   0   0\n",
      "   0   0   0   0   0   0   0   0   0   0   0   0   0   0   0   0   0   0\n",
      "   0   0   0   0   0   0   0   0   0   0   0   0   0   0   0   0   0   0\n",
      "   0   0   0   0   0   0   0   0   0   0   0   0   0   0   0   0   0   0\n",
      "   0   0   0   0   0   0   0   0   0   0   0   0   0   0   0   0   0   0\n",
      "   0   0   0   0   0   0   0   0   0   0   0   0   0   0   0   0   0   0\n",
      "   0   0   0   0   0   0   0   0   0   0   0   0   0   0   0   0   0   0\n",
      "   0   0   0   0   0   0   0   0   0   0]\n"
     ]
    }
   ],
   "source": [
    "print(X_train_reshape[1])"
   ]
  },
  {
   "cell_type": "code",
   "execution_count": 25,
   "metadata": {},
   "outputs": [
    {
     "data": {
      "text/plain": [
       "<matplotlib.image.AxesImage at 0x1e28ce5ac48>"
      ]
     },
     "execution_count": 25,
     "metadata": {},
     "output_type": "execute_result"
    },
    {
     "data": {
      "image/png": "[encoded data removed]",
      "text/plain": [
       "<Figure size 432x288 with 1 Axes>"
      ]
     },
     "metadata": {
      "needs_background": "light"
     },
     "output_type": "display_data"
    }
   ],
   "source": [
    "plt.imshow(X_train[1])"
   ]
  },
  {
   "cell_type": "code",
   "execution_count": 33,
   "metadata": {},
   "outputs": [],
   "source": [
    "from tensorflow.keras.utils import to_categorical"
   ]
  },
  {
   "cell_type": "code",
   "execution_count": 36,
   "metadata": {},
   "outputs": [
    {
     "data": {
      "text/plain": [
       "(60000,)"
      ]
     },
     "execution_count": 36,
     "metadata": {},
     "output_type": "execute_result"
    }
   ],
   "source": [
    "y_train.shape"
   ]
  },
  {
   "cell_type": "code",
   "execution_count": 34,
   "metadata": {},
   "outputs": [],
   "source": [
    "# 원핫인코딩 수행\n",
    "y_train_cat = to_categorical(y_train)"
   ]
  },
  {
   "cell_type": "code",
   "execution_count": 35,
   "metadata": {},
   "outputs": [
    {
     "data": {
      "text/plain": [
       "array([[0., 0., 0., ..., 0., 0., 0.],\n",
       "       [1., 0., 0., ..., 0., 0., 0.],\n",
       "       [0., 0., 0., ..., 0., 0., 0.],\n",
       "       ...,\n",
       "       [0., 0., 0., ..., 0., 0., 0.],\n",
       "       [0., 0., 0., ..., 0., 0., 0.],\n",
       "       [0., 0., 0., ..., 0., 1., 0.]], dtype=float32)"
      ]
     },
     "execution_count": 35,
     "metadata": {},
     "output_type": "execute_result"
    }
   ],
   "source": [
    "y_train_cat"
   ]
  },
  {
   "cell_type": "code",
   "execution_count": 37,
   "metadata": {},
   "outputs": [
    {
     "data": {
      "text/plain": [
       "(60000, 10)"
      ]
     },
     "execution_count": 37,
     "metadata": {},
     "output_type": "execute_result"
    }
   ],
   "source": [
    "y_train_cat.shape"
   ]
  },
  {
   "cell_type": "code",
   "execution_count": 38,
   "metadata": {},
   "outputs": [],
   "source": [
    "y_test_cat = to_categorical(y_test)"
   ]
  },
  {
   "cell_type": "markdown",
   "metadata": {},
   "source": [
    "## 4. 모델선택, 학습, 평가\n",
    "    - 원하는 딥러닝 모델선택\n",
    "    - checkpoint를 이용해 이상적인 모델 저장\n",
    "    - earlystop 함수를 활용해서 학습중단"
   ]
  },
  {
   "cell_type": "code",
   "execution_count": 87,
   "metadata": {},
   "outputs": [],
   "source": [
    "model = Sequential()"
   ]
  },
  {
   "cell_type": "code",
   "execution_count": 88,
   "metadata": {},
   "outputs": [],
   "source": [
    "model.add(Dense(100, input_dim=784, activation='relu' ))  # 1차 배열 모두 넣어야해서 28*28 = 784개로 작성\n",
    "model.add(Dense(50, activation='relu' ))\n",
    "model.add(Dense(30, activation='relu' ))\n",
    "model.add(Dense(10, activation='softmax' ))"
   ]
  },
  {
   "cell_type": "code",
   "execution_count": 89,
   "metadata": {},
   "outputs": [],
   "source": [
    "model.compile(loss='categorical_crossentropy',\n",
    "             optimizer='adam', \n",
    "             metrics=['accuracy'])"
   ]
  },
  {
   "cell_type": "code",
   "execution_count": 90,
   "metadata": {},
   "outputs": [
    {
     "name": "stdout",
     "output_type": "stream",
     "text": [
      "Model: \"sequential_12\"\n",
      "_________________________________________________________________\n",
      "Layer (type)                 Output Shape              Param #   \n",
      "=================================================================\n",
      "dense_40 (Dense)             (None, 100)               78500     \n",
      "_________________________________________________________________\n",
      "dense_41 (Dense)             (None, 50)                5050      \n",
      "_________________________________________________________________\n",
      "dense_42 (Dense)             (None, 30)                1530      \n",
      "_________________________________________________________________\n",
      "dense_43 (Dense)             (None, 10)                310       \n",
      "=================================================================\n",
      "Total params: 85,390\n",
      "Trainable params: 85,390\n",
      "Non-trainable params: 0\n",
      "_________________________________________________________________\n"
     ]
    }
   ],
   "source": [
    "model.summary()"
   ]
  },
  {
   "cell_type": "code",
   "execution_count": 91,
   "metadata": {},
   "outputs": [],
   "source": [
    "cb_early_stopping = EarlyStopping(monitor='val_accuracy',  # val_loss 값을 모니터링\n",
    "                                  #min_delta=0.02,   # 순간변화량 0.1\n",
    "                                 #baseline=0.94,  # 목표치의 최저값을 0.001로 설정(앞 학습과 뒤 학습차이)\n",
    "                                 mode='auto',    # 설정한 loss는 관찰값 이하가 되면 accuracy는 이상이 되면 멈춤\n",
    "                                 patience=10, # 개선된 결과값을 바로 멈출지아니면 몇번 더 진행 후 멈출지 설정\n",
    "                                 verbose=1)"
   ]
  },
  {
   "cell_type": "code",
   "execution_count": 92,
   "metadata": {
    "scrolled": true
   },
   "outputs": [
    {
     "name": "stdout",
     "output_type": "stream",
     "text": [
      "Epoch 1/1000\n",
      "13429/13500 [============================>.] - ETA: 0s - loss: 0.8901 - accuracy: 0.7978WARNING:tensorflow:Callbacks method `on_test_batch_begin` is slow compared to the batch time (batch time: 0.0000s vs `on_test_batch_begin` time: 0.0010s). Check your callbacks.\n",
      "13500/13500 [==============================] - 8s 559us/step - loss: 0.8878 - accuracy: 0.7982 - val_loss: 0.3537 - val_accuracy: 0.8938\n",
      "Epoch 2/1000\n",
      "13500/13500 [==============================] - 7s 554us/step - loss: 0.3102 - accuracy: 0.9222 - val_loss: 0.2860 - val_accuracy: 0.9322\n",
      "Epoch 3/1000\n",
      "13500/13500 [==============================] - 7s 556us/step - loss: 0.2493 - accuracy: 0.9421 - val_loss: 0.1682 - val_accuracy: 0.9577\n",
      "Epoch 4/1000\n",
      "13500/13500 [==============================] - 8s 557us/step - loss: 0.2254 - accuracy: 0.9493 - val_loss: 0.2555 - val_accuracy: 0.9477\n",
      "Epoch 5/1000\n",
      "13500/13500 [==============================] - 7s 553us/step - loss: 0.1975 - accuracy: 0.9561 - val_loss: 0.2149 - val_accuracy: 0.9528\n",
      "Epoch 6/1000\n",
      "13500/13500 [==============================] - 7s 552us/step - loss: 0.2021 - accuracy: 0.9566 - val_loss: 0.1912 - val_accuracy: 0.9637\n",
      "Epoch 7/1000\n",
      "13500/13500 [==============================] - 7s 554us/step - loss: 0.1825 - accuracy: 0.9597 - val_loss: 0.2505 - val_accuracy: 0.9528\n",
      "Epoch 8/1000\n",
      "13500/13500 [==============================] - 7s 552us/step - loss: 0.1900 - accuracy: 0.9608 - val_loss: 0.1644 - val_accuracy: 0.9657\n",
      "Epoch 9/1000\n",
      "13500/13500 [==============================] - 8s 557us/step - loss: 0.1959 - accuracy: 0.9621 - val_loss: 0.1828 - val_accuracy: 0.9618\n",
      "Epoch 10/1000\n",
      "13500/13500 [==============================] - 8s 557us/step - loss: 0.1809 - accuracy: 0.9630 - val_loss: 0.2388 - val_accuracy: 0.9467\n",
      "Epoch 11/1000\n",
      "13500/13500 [==============================] - 8s 558us/step - loss: 0.1854 - accuracy: 0.9646 - val_loss: 0.2730 - val_accuracy: 0.9617\n",
      "Epoch 12/1000\n",
      "13500/13500 [==============================] - 7s 554us/step - loss: 0.1801 - accuracy: 0.9651 - val_loss: 0.1650 - val_accuracy: 0.9702\n",
      "Epoch 13/1000\n",
      "13500/13500 [==============================] - 7s 554us/step - loss: 0.1778 - accuracy: 0.9654 - val_loss: 0.1892 - val_accuracy: 0.9653\n",
      "Epoch 14/1000\n",
      "13500/13500 [==============================] - 7s 555us/step - loss: 0.1783 - accuracy: 0.9664 - val_loss: 0.2270 - val_accuracy: 0.9508\n",
      "Epoch 15/1000\n",
      "13500/13500 [==============================] - 8s 558us/step - loss: 0.1669 - accuracy: 0.9676 - val_loss: 0.2249 - val_accuracy: 0.9670\n",
      "Epoch 16/1000\n",
      "13500/13500 [==============================] - 7s 555us/step - loss: 0.1738 - accuracy: 0.9675 - val_loss: 0.2404 - val_accuracy: 0.9672\n",
      "Epoch 17/1000\n",
      "13500/13500 [==============================] - 8s 563us/step - loss: 0.1800 - accuracy: 0.9690 - val_loss: 0.3333 - val_accuracy: 0.9658\n",
      "Epoch 18/1000\n",
      "13500/13500 [==============================] - 8s 561us/step - loss: 0.1795 - accuracy: 0.9686 - val_loss: 0.2978 - val_accuracy: 0.9587\n",
      "Epoch 19/1000\n",
      "13500/13500 [==============================] - 8s 563us/step - loss: 0.1717 - accuracy: 0.9697 - val_loss: 0.3768 - val_accuracy: 0.9673\n",
      "Epoch 20/1000\n",
      "13500/13500 [==============================] - 8s 564us/step - loss: 0.1638 - accuracy: 0.9699 - val_loss: 0.3760 - val_accuracy: 0.9620\n",
      "Epoch 21/1000\n",
      "13500/13500 [==============================] - 8s 560us/step - loss: 0.1906 - accuracy: 0.9669 - val_loss: 0.3426 - val_accuracy: 0.9632\n",
      "Epoch 22/1000\n",
      "13500/13500 [==============================] - 8s 558us/step - loss: 0.2060 - accuracy: 0.9667 - val_loss: 0.2333 - val_accuracy: 0.9628\n",
      "Epoch 00022: early stopping\n"
     ]
    },
    {
     "data": {
      "text/plain": [
       "<tensorflow.python.keras.callbacks.History at 0x1e2a12b0c48>"
      ]
     },
     "execution_count": 92,
     "metadata": {},
     "output_type": "execute_result"
    }
   ],
   "source": [
    "model.fit(X_train_reshape, y_train_cat, epochs=1000, validation_split=0.1,batch_size=4, verbose=1, callbacks=[cb_early_stopping])"
   ]
  },
  {
   "cell_type": "code",
   "execution_count": 93,
   "metadata": {},
   "outputs": [
    {
     "name": "stdout",
     "output_type": "stream",
     "text": [
      "313/313 [==============================] - 0s 762us/step - loss: 0.4542 - accuracy: 0.9588\n"
     ]
    },
    {
     "data": {
      "text/plain": [
       "[0.4541766941547394, 0.9588000178337097]"
      ]
     },
     "execution_count": 93,
     "metadata": {},
     "output_type": "execute_result"
    }
   ],
   "source": [
    "model.evaluate(X_test_reshape, y_test_cat) "
   ]
  },
  {
   "cell_type": "markdown",
   "metadata": {},
   "source": [
    "### 모델choice\n",
    "- 라이브러리 위치 : from tensorflow.keras.callbacks import ModelCheckpoint"
   ]
  },
  {
   "cell_type": "code",
   "execution_count": 74,
   "metadata": {},
   "outputs": [],
   "source": [
    "checkpoint = ModelCheckpoint(filepath='Model/mnist1_{epoch:03d}--{val_accuracy:.4f}.h5',    # 저장파일명\n",
    "                    monitor='val_accuracy',  # 모니터링 주요 변수\n",
    "                    verbose=1,\n",
    "                    save_best_only=True)    # 모델 저장 유무 false가 새로 저장하는 것, True는 가장 최적의 값을 덮어씌우기\n",
    "earlystop=EarlyStopping(monitor='val_accuracy', patience = 50)"
   ]
  },
  {
   "cell_type": "code",
   "execution_count": 67,
   "metadata": {
    "collapsed": true
   },
   "outputs": [
    {
     "name": "stdout",
     "output_type": "stream",
     "text": [
      " C 드라이브의 볼륨: SYSTEM\n",
      " 볼륨 일련 번호: ACC9-2BD1\n",
      "\n",
      " C:\\Users\\SMHRD\\Python\\DeepLearning 디렉터리\n",
      "\n",
      "2020-09-16  오전 11:30    <DIR>          .\n",
      "2020-09-16  오전 11:30    <DIR>          ..\n",
      "2020-09-16  오전 09:38    <DIR>          .ipynb_checkpoints\n",
      "2020-09-15  오후 12:33            16,952 bestModel.h5\n",
      "2020-09-09  오후 05:52    <DIR>          data\n",
      "2020-09-16  오전 10:21           946,339 iris 품종분류 by keras.ipynb\n",
      "2020-09-16  오전 09:36           177,270 iris 품종분류by keras.ipynb\n",
      "2020-09-16  오전 09:24           123,729 iris 품종분류by keras.zip\n",
      "2020-09-16  오전 11:30    <DIR>          Model\n",
      "2020-09-10  오후 07:25           457,586 Sequential_Dense.ipynb\n",
      "2020-09-16  오전 12:22           635,544 XOR문제풀이 by keras.ipynb\n",
      "2020-09-16  오전 11:30            65,897 손글씨분류 by keras(다중분류).ipynb\n",
      "2020-09-14  오후 11:21           149,206 폐암데이터 예측하기 by keras.ipynb\n",
      "               8개 파일           2,572,523 바이트\n",
      "               5개 디렉터리  340,763,869,184 바이트 남음\n"
     ]
    }
   ],
   "source": [
    "!dir"
   ]
  },
  {
   "cell_type": "code",
   "execution_count": 75,
   "metadata": {
    "scrolled": true
   },
   "outputs": [
    {
     "name": "stdout",
     "output_type": "stream",
     "text": [
      "Epoch 1/1000\n",
      "1248/1313 [===========================>..] - ETA: 0s - loss: 1.4676 - accuracy: 0.8071WARNING:tensorflow:Callbacks method `on_test_batch_end` is slow compared to the batch time (batch time: 0.0000s vs `on_test_batch_end` time: 0.0010s). Check your callbacks.\n",
      "\n",
      "Epoch 00001: val_accuracy improved from -inf to 0.90172, saving model to Model\\mnist1_001--0.9017.h5\n",
      "1313/1313 [==============================] - 1s 900us/step - loss: 1.4133 - accuracy: 0.8116 - val_loss: 0.4012 - val_accuracy: 0.9017\n",
      "Epoch 2/1000\n",
      "1249/1313 [===========================>..] - ETA: 0s - loss: 0.3076 - accuracy: 0.9156\n",
      "Epoch 00002: val_accuracy improved from 0.90172 to 0.92544, saving model to Model\\mnist1_002--0.9254.h5\n",
      "1313/1313 [==============================] - 1s 850us/step - loss: 0.3079 - accuracy: 0.9157 - val_loss: 0.2767 - val_accuracy: 0.9254\n",
      "Epoch 3/1000\n",
      "1258/1313 [===========================>..] - ETA: 0s - loss: 0.2152 - accuracy: 0.9397\n",
      "Epoch 00003: val_accuracy improved from 0.92544 to 0.93722, saving model to Model\\mnist1_003--0.9372.h5\n",
      "1313/1313 [==============================] - 1s 844us/step - loss: 0.2152 - accuracy: 0.9400 - val_loss: 0.2282 - val_accuracy: 0.9372\n",
      "Epoch 4/1000\n",
      "1265/1313 [===========================>..] - ETA: 0s - loss: 0.1759 - accuracy: 0.9499\n",
      "Epoch 00004: val_accuracy improved from 0.93722 to 0.94539, saving model to Model\\mnist1_004--0.9454.h5\n",
      "1313/1313 [==============================] - 1s 842us/step - loss: 0.1756 - accuracy: 0.9499 - val_loss: 0.1978 - val_accuracy: 0.9454\n",
      "Epoch 5/1000\n",
      "1261/1313 [===========================>..] - ETA: 0s - loss: 0.1565 - accuracy: 0.9559\n",
      "Epoch 00005: val_accuracy did not improve from 0.94539\n",
      "1313/1313 [==============================] - 1s 830us/step - loss: 0.1559 - accuracy: 0.9560 - val_loss: 0.2051 - val_accuracy: 0.9450\n",
      "Epoch 6/1000\n",
      "1271/1313 [============================>.] - ETA: 0s - loss: 0.1316 - accuracy: 0.9617\n",
      "Epoch 00006: val_accuracy did not improve from 0.94539\n",
      "1313/1313 [==============================] - 1s 825us/step - loss: 0.1316 - accuracy: 0.9617 - val_loss: 0.2062 - val_accuracy: 0.9446\n",
      "Epoch 7/1000\n",
      "1272/1313 [============================>.] - ETA: 0s - loss: 0.1142 - accuracy: 0.9664\n",
      "Epoch 00007: val_accuracy improved from 0.94539 to 0.95211, saving model to Model\\mnist1_007--0.9521.h5\n",
      "1313/1313 [==============================] - 1s 834us/step - loss: 0.1133 - accuracy: 0.9668 - val_loss: 0.1912 - val_accuracy: 0.9521\n",
      "Epoch 8/1000\n",
      "1269/1313 [===========================>..] - ETA: 0s - loss: 0.0996 - accuracy: 0.9713\n",
      "Epoch 00008: val_accuracy improved from 0.95211 to 0.95472, saving model to Model\\mnist1_008--0.9547.h5\n",
      "1313/1313 [==============================] - 1s 834us/step - loss: 0.0994 - accuracy: 0.9714 - val_loss: 0.1869 - val_accuracy: 0.9547\n",
      "Epoch 9/1000\n",
      "1262/1313 [===========================>..] - ETA: 0s - loss: 0.0905 - accuracy: 0.9742\n",
      "Epoch 00009: val_accuracy improved from 0.95472 to 0.96111, saving model to Model\\mnist1_009--0.9611.h5\n",
      "1313/1313 [==============================] - 1s 840us/step - loss: 0.0910 - accuracy: 0.9739 - val_loss: 0.1497 - val_accuracy: 0.9611\n",
      "Epoch 10/1000\n",
      "1269/1313 [===========================>..] - ETA: 0s - loss: 0.0812 - accuracy: 0.9762\n",
      "Epoch 00010: val_accuracy did not improve from 0.96111\n",
      "1313/1313 [==============================] - 1s 826us/step - loss: 0.0816 - accuracy: 0.9761 - val_loss: 0.1640 - val_accuracy: 0.9595\n",
      "Epoch 11/1000\n",
      "1267/1313 [===========================>..] - ETA: 0s - loss: 0.0747 - accuracy: 0.9786\n",
      "Epoch 00011: val_accuracy did not improve from 0.96111\n",
      "1313/1313 [==============================] - 1s 823us/step - loss: 0.0755 - accuracy: 0.9785 - val_loss: 0.1764 - val_accuracy: 0.9590\n",
      "Epoch 12/1000\n",
      "1272/1313 [============================>.] - ETA: 0s - loss: 0.0685 - accuracy: 0.9798\n",
      "Epoch 00012: val_accuracy improved from 0.96111 to 0.96122, saving model to Model\\mnist1_012--0.9612.h5\n",
      "1313/1313 [==============================] - 1s 830us/step - loss: 0.0684 - accuracy: 0.9798 - val_loss: 0.1634 - val_accuracy: 0.9612\n",
      "Epoch 13/1000\n",
      "1270/1313 [============================>.] - ETA: 0s - loss: 0.0611 - accuracy: 0.9824\n",
      "Epoch 00013: val_accuracy did not improve from 0.96122\n",
      "1313/1313 [==============================] - 1s 829us/step - loss: 0.0609 - accuracy: 0.9825 - val_loss: 0.1962 - val_accuracy: 0.9579\n",
      "Epoch 14/1000\n",
      "1266/1313 [===========================>..] - ETA: 0s - loss: 0.0595 - accuracy: 0.9824\n",
      "Epoch 00014: val_accuracy improved from 0.96122 to 0.96178, saving model to Model\\mnist1_014--0.9618.h5\n",
      "1313/1313 [==============================] - 1s 842us/step - loss: 0.0592 - accuracy: 0.9823 - val_loss: 0.1701 - val_accuracy: 0.9618\n",
      "Epoch 15/1000\n",
      "1258/1313 [===========================>..] - ETA: 0s - loss: 0.0522 - accuracy: 0.9843\n",
      "Epoch 00015: val_accuracy did not improve from 0.96178\n",
      "1313/1313 [==============================] - 1s 831us/step - loss: 0.0537 - accuracy: 0.9838 - val_loss: 0.1698 - val_accuracy: 0.9577\n",
      "Epoch 16/1000\n",
      "1269/1313 [===========================>..] - ETA: 0s - loss: 0.0496 - accuracy: 0.9855\n",
      "Epoch 00016: val_accuracy improved from 0.96178 to 0.96322, saving model to Model\\mnist1_016--0.9632.h5\n",
      "1313/1313 [==============================] - 1s 837us/step - loss: 0.0492 - accuracy: 0.9856 - val_loss: 0.1883 - val_accuracy: 0.9632\n",
      "Epoch 17/1000\n",
      "1267/1313 [===========================>..] - ETA: 0s - loss: 0.0499 - accuracy: 0.9857\n",
      "Epoch 00017: val_accuracy improved from 0.96322 to 0.96483, saving model to Model\\mnist1_017--0.9648.h5\n",
      "1313/1313 [==============================] - 1s 844us/step - loss: 0.0503 - accuracy: 0.9856 - val_loss: 0.1696 - val_accuracy: 0.9648\n",
      "Epoch 18/1000\n",
      "1259/1313 [===========================>..] - ETA: 0s - loss: 0.0424 - accuracy: 0.9875\n",
      "Epoch 00018: val_accuracy did not improve from 0.96483\n",
      "1313/1313 [==============================] - 1s 827us/step - loss: 0.0432 - accuracy: 0.9874 - val_loss: 0.1920 - val_accuracy: 0.9632\n",
      "Epoch 19/1000\n",
      "1269/1313 [===========================>..] - ETA: 0s - loss: 0.0443 - accuracy: 0.9874\n",
      "Epoch 00019: val_accuracy improved from 0.96483 to 0.96528, saving model to Model\\mnist1_019--0.9653.h5\n",
      "1313/1313 [==============================] - 1s 834us/step - loss: 0.0443 - accuracy: 0.9873 - val_loss: 0.1696 - val_accuracy: 0.9653\n",
      "Epoch 20/1000\n",
      "1260/1313 [===========================>..] - ETA: 0s - loss: 0.0441 - accuracy: 0.9874\n",
      "Epoch 00020: val_accuracy improved from 0.96528 to 0.96594, saving model to Model\\mnist1_020--0.9659.h5\n",
      "1313/1313 [==============================] - 1s 845us/step - loss: 0.0447 - accuracy: 0.9872 - val_loss: 0.1569 - val_accuracy: 0.9659\n",
      "Epoch 21/1000\n",
      "1256/1313 [===========================>..] - ETA: 0s - loss: 0.0395 - accuracy: 0.9893\n",
      "Epoch 00021: val_accuracy did not improve from 0.96594\n",
      "1313/1313 [==============================] - 1s 832us/step - loss: 0.0408 - accuracy: 0.9888 - val_loss: 0.1743 - val_accuracy: 0.9649\n",
      "Epoch 22/1000\n",
      "1268/1313 [===========================>..] - ETA: 0s - loss: 0.0398 - accuracy: 0.9885\n",
      "Epoch 00022: val_accuracy improved from 0.96594 to 0.96678, saving model to Model\\mnist1_022--0.9668.h5\n",
      "1313/1313 [==============================] - 1s 833us/step - loss: 0.0393 - accuracy: 0.9887 - val_loss: 0.1773 - val_accuracy: 0.9668\n",
      "Epoch 23/1000\n",
      "1264/1313 [===========================>..] - ETA: 0s - loss: 0.0355 - accuracy: 0.9900\n",
      "Epoch 00023: val_accuracy improved from 0.96678 to 0.96811, saving model to Model\\mnist1_023--0.9681.h5\n",
      "1313/1313 [==============================] - 1s 849us/step - loss: 0.0352 - accuracy: 0.9900 - val_loss: 0.1902 - val_accuracy: 0.9681\n",
      "Epoch 24/1000\n",
      "1259/1313 [===========================>..] - ETA: 0s - loss: 0.0339 - accuracy: 0.9906\n",
      "Epoch 00024: val_accuracy did not improve from 0.96811\n",
      "1313/1313 [==============================] - 1s 830us/step - loss: 0.0341 - accuracy: 0.9905 - val_loss: 0.2270 - val_accuracy: 0.9632\n",
      "Epoch 25/1000\n",
      "1288/1313 [============================>.] - ETA: 0s - loss: 0.0336 - accuracy: 0.9906\n",
      "Epoch 00025: val_accuracy did not improve from 0.96811\n",
      "1313/1313 [==============================] - 1s 855us/step - loss: 0.0337 - accuracy: 0.9905 - val_loss: 0.1820 - val_accuracy: 0.9658\n",
      "Epoch 26/1000\n"
     ]
    },
    {
     "name": "stdout",
     "output_type": "stream",
     "text": [
      "1311/1313 [============================>.] - ETA: 0s - loss: 0.0332 - accuracy: 0.9911\n",
      "Epoch 00026: val_accuracy did not improve from 0.96811\n",
      "1313/1313 [==============================] - 1s 848us/step - loss: 0.0333 - accuracy: 0.9911 - val_loss: 0.1742 - val_accuracy: 0.9672\n",
      "Epoch 27/1000\n",
      "1258/1313 [===========================>..] - ETA: 0s - loss: 0.0278 - accuracy: 0.9919\n",
      "Epoch 00027: val_accuracy did not improve from 0.96811\n",
      "1313/1313 [==============================] - 1s 834us/step - loss: 0.0282 - accuracy: 0.9918 - val_loss: 0.2424 - val_accuracy: 0.9653\n",
      "Epoch 28/1000\n",
      "1268/1313 [===========================>..] - ETA: 0s - loss: 0.0334 - accuracy: 0.9908\n",
      "Epoch 00028: val_accuracy improved from 0.96811 to 0.96911, saving model to Model\\mnist1_028--0.9691.h5\n",
      "1313/1313 [==============================] - 1s 838us/step - loss: 0.0330 - accuracy: 0.9909 - val_loss: 0.2123 - val_accuracy: 0.9691\n",
      "Epoch 29/1000\n",
      "1259/1313 [===========================>..] - ETA: 0s - loss: 0.0319 - accuracy: 0.9912\n",
      "Epoch 00029: val_accuracy did not improve from 0.96911\n",
      "1313/1313 [==============================] - 1s 835us/step - loss: 0.0321 - accuracy: 0.9912 - val_loss: 0.2180 - val_accuracy: 0.9681\n",
      "Epoch 30/1000\n",
      "1267/1313 [===========================>..] - ETA: 0s - loss: 0.0260 - accuracy: 0.9932\n",
      "Epoch 00030: val_accuracy did not improve from 0.96911\n",
      "1313/1313 [==============================] - 1s 827us/step - loss: 0.0262 - accuracy: 0.9931 - val_loss: 0.2395 - val_accuracy: 0.9648\n",
      "Epoch 31/1000\n",
      "1271/1313 [============================>.] - ETA: 0s - loss: 0.0350 - accuracy: 0.9911\n",
      "Epoch 00031: val_accuracy did not improve from 0.96911\n",
      "1313/1313 [==============================] - 1s 826us/step - loss: 0.0347 - accuracy: 0.9912 - val_loss: 0.2177 - val_accuracy: 0.9685\n",
      "Epoch 32/1000\n",
      "1268/1313 [===========================>..] - ETA: 0s - loss: 0.0261 - accuracy: 0.9934\n",
      "Epoch 00032: val_accuracy did not improve from 0.96911\n",
      "1313/1313 [==============================] - 1s 832us/step - loss: 0.0284 - accuracy: 0.9931 - val_loss: 0.2556 - val_accuracy: 0.9628\n",
      "Epoch 33/1000\n",
      "1271/1313 [============================>.] - ETA: 0s - loss: 0.0214 - accuracy: 0.9937\n",
      "Epoch 00033: val_accuracy did not improve from 0.96911\n",
      "1313/1313 [==============================] - 1s 823us/step - loss: 0.0217 - accuracy: 0.9936 - val_loss: 0.2253 - val_accuracy: 0.9670\n",
      "Epoch 34/1000\n",
      "1269/1313 [===========================>..] - ETA: 0s - loss: 0.0290 - accuracy: 0.9923\n",
      "Epoch 00034: val_accuracy did not improve from 0.96911\n",
      "1313/1313 [==============================] - 1s 823us/step - loss: 0.0293 - accuracy: 0.9922 - val_loss: 0.2691 - val_accuracy: 0.9648\n",
      "Epoch 35/1000\n",
      "1267/1313 [===========================>..] - ETA: 0s - loss: 0.0308 - accuracy: 0.9930\n",
      "Epoch 00035: val_accuracy improved from 0.96911 to 0.96928, saving model to Model\\mnist1_035--0.9693.h5\n",
      "1313/1313 [==============================] - 1s 844us/step - loss: 0.0301 - accuracy: 0.9931 - val_loss: 0.2549 - val_accuracy: 0.9693\n",
      "Epoch 36/1000\n",
      "1256/1313 [===========================>..] - ETA: 0s - loss: 0.0247 - accuracy: 0.9931\n",
      "Epoch 00036: val_accuracy did not improve from 0.96928\n",
      "1313/1313 [==============================] - 1s 839us/step - loss: 0.0244 - accuracy: 0.9932 - val_loss: 0.2572 - val_accuracy: 0.9679\n",
      "Epoch 37/1000\n",
      "1260/1313 [===========================>..] - ETA: 0s - loss: 0.0296 - accuracy: 0.9925\n",
      "Epoch 00037: val_accuracy did not improve from 0.96928\n",
      "1313/1313 [==============================] - 1s 830us/step - loss: 0.0295 - accuracy: 0.9925 - val_loss: 0.2705 - val_accuracy: 0.9686\n",
      "Epoch 38/1000\n",
      "1262/1313 [===========================>..] - ETA: 0s - loss: 0.0261 - accuracy: 0.9934\n",
      "Epoch 00038: val_accuracy did not improve from 0.96928\n",
      "1313/1313 [==============================] - 1s 829us/step - loss: 0.0258 - accuracy: 0.9934 - val_loss: 0.2464 - val_accuracy: 0.9680\n",
      "Epoch 39/1000\n",
      "1240/1313 [===========================>..] - ETA: 0s - loss: 0.0216 - accuracy: 0.9943\n",
      "Epoch 00039: val_accuracy did not improve from 0.96928\n",
      "1313/1313 [==============================] - 1s 839us/step - loss: 0.0225 - accuracy: 0.9941 - val_loss: 0.2389 - val_accuracy: 0.9656\n",
      "Epoch 40/1000\n",
      "1252/1313 [===========================>..] - ETA: 0s - loss: 0.0210 - accuracy: 0.9949\n",
      "Epoch 00040: val_accuracy did not improve from 0.96928\n",
      "1313/1313 [==============================] - 1s 834us/step - loss: 0.0209 - accuracy: 0.9949 - val_loss: 0.2905 - val_accuracy: 0.9662\n",
      "Epoch 41/1000\n",
      "1256/1313 [===========================>..] - ETA: 0s - loss: 0.0245 - accuracy: 0.9934\n",
      "Epoch 00041: val_accuracy did not improve from 0.96928\n",
      "1313/1313 [==============================] - 1s 845us/step - loss: 0.0248 - accuracy: 0.9933 - val_loss: 0.2521 - val_accuracy: 0.9658\n",
      "Epoch 42/1000\n",
      "1257/1313 [===========================>..] - ETA: 0s - loss: 0.0247 - accuracy: 0.9941\n",
      "Epoch 00042: val_accuracy did not improve from 0.96928\n",
      "1313/1313 [==============================] - 1s 838us/step - loss: 0.0255 - accuracy: 0.9940 - val_loss: 0.2317 - val_accuracy: 0.9673\n",
      "Epoch 43/1000\n",
      "1258/1313 [===========================>..] - ETA: 0s - loss: 0.0267 - accuracy: 0.9937\n",
      "Epoch 00043: val_accuracy did not improve from 0.96928\n",
      "1313/1313 [==============================] - 1s 842us/step - loss: 0.0269 - accuracy: 0.9936 - val_loss: 0.2440 - val_accuracy: 0.9689\n",
      "Epoch 44/1000\n",
      "1267/1313 [===========================>..] - ETA: 0s - loss: 0.0265 - accuracy: 0.9932\n",
      "Epoch 00044: val_accuracy improved from 0.96928 to 0.97006, saving model to Model\\mnist1_044--0.9701.h5\n",
      "1313/1313 [==============================] - 1s 839us/step - loss: 0.0259 - accuracy: 0.9934 - val_loss: 0.2506 - val_accuracy: 0.9701\n",
      "Epoch 45/1000\n",
      "1252/1313 [===========================>..] - ETA: 0s - loss: 0.0185 - accuracy: 0.9957\n",
      "Epoch 00045: val_accuracy did not improve from 0.97006\n",
      "1313/1313 [==============================] - 1s 845us/step - loss: 0.0189 - accuracy: 0.9955 - val_loss: 0.2592 - val_accuracy: 0.9684\n",
      "Epoch 46/1000\n",
      "1263/1313 [===========================>..] - ETA: 0s - loss: 0.0264 - accuracy: 0.9936\n",
      "Epoch 00046: val_accuracy did not improve from 0.97006\n",
      "1313/1313 [==============================] - 1s 828us/step - loss: 0.0260 - accuracy: 0.9937 - val_loss: 0.3720 - val_accuracy: 0.9604\n",
      "Epoch 47/1000\n",
      "1264/1313 [===========================>..] - ETA: 0s - loss: 0.0265 - accuracy: 0.9941\n",
      "Epoch 00047: val_accuracy did not improve from 0.97006\n",
      "1313/1313 [==============================] - 1s 826us/step - loss: 0.0266 - accuracy: 0.9940 - val_loss: 0.2485 - val_accuracy: 0.9672\n",
      "Epoch 48/1000\n",
      "1268/1313 [===========================>..] - ETA: 0s - loss: 0.0209 - accuracy: 0.9949\n",
      "Epoch 00048: val_accuracy did not improve from 0.97006\n",
      "1313/1313 [==============================] - 1s 825us/step - loss: 0.0205 - accuracy: 0.9949 - val_loss: 0.2352 - val_accuracy: 0.9698\n",
      "Epoch 49/1000\n",
      "1266/1313 [===========================>..] - ETA: 0s - loss: 0.0216 - accuracy: 0.9948\n",
      "Epoch 00049: val_accuracy did not improve from 0.97006\n",
      "1313/1313 [==============================] - 1s 827us/step - loss: 0.0217 - accuracy: 0.9948 - val_loss: 0.2855 - val_accuracy: 0.9681\n",
      "Epoch 50/1000\n",
      "1264/1313 [===========================>..] - ETA: 0s - loss: 0.0241 - accuracy: 0.9945\n",
      "Epoch 00050: val_accuracy did not improve from 0.97006\n",
      "1313/1313 [==============================] - 1s 827us/step - loss: 0.0249 - accuracy: 0.9944 - val_loss: 0.2654 - val_accuracy: 0.9663\n",
      "Epoch 51/1000\n",
      "1266/1313 [===========================>..] - ETA: 0s - loss: 0.0196 - accuracy: 0.9955\n",
      "Epoch 00051: val_accuracy did not improve from 0.97006\n",
      "1313/1313 [==============================] - 1s 826us/step - loss: 0.0195 - accuracy: 0.9954 - val_loss: 0.3100 - val_accuracy: 0.9672\n",
      "Epoch 52/1000\n",
      "1257/1313 [===========================>..] - ETA: 0s - loss: 0.0271 - accuracy: 0.9947\n",
      "Epoch 00052: val_accuracy did not improve from 0.97006\n",
      "1313/1313 [==============================] - 1s 835us/step - loss: 0.0284 - accuracy: 0.9945 - val_loss: 0.2765 - val_accuracy: 0.9646\n",
      "Epoch 53/1000\n",
      "1255/1313 [===========================>..] - ETA: 0s - loss: 0.0200 - accuracy: 0.9952\n",
      "Epoch 00053: val_accuracy improved from 0.97006 to 0.97033, saving model to Model\\mnist1_053--0.9703.h5\n",
      "1313/1313 [==============================] - 1s 849us/step - loss: 0.0201 - accuracy: 0.9953 - val_loss: 0.2950 - val_accuracy: 0.9703\n"
     ]
    },
    {
     "name": "stdout",
     "output_type": "stream",
     "text": [
      "Epoch 54/1000\n",
      "1243/1313 [===========================>..] - ETA: 0s - loss: 0.0160 - accuracy: 0.9959\n",
      "Epoch 00054: val_accuracy did not improve from 0.97033\n",
      "1313/1313 [==============================] - 1s 842us/step - loss: 0.0163 - accuracy: 0.9958 - val_loss: 0.3380 - val_accuracy: 0.9701\n",
      "Epoch 55/1000\n",
      "1255/1313 [===========================>..] - ETA: 0s - loss: 0.0208 - accuracy: 0.9952\n",
      "Epoch 00055: val_accuracy did not improve from 0.97033\n",
      "1313/1313 [==============================] - 1s 836us/step - loss: 0.0209 - accuracy: 0.9952 - val_loss: 0.3084 - val_accuracy: 0.9702\n",
      "Epoch 56/1000\n",
      "1243/1313 [===========================>..] - ETA: 0s - loss: 0.0208 - accuracy: 0.9955\n",
      "Epoch 00056: val_accuracy did not improve from 0.97033\n",
      "1313/1313 [==============================] - 1s 845us/step - loss: 0.0227 - accuracy: 0.9952 - val_loss: 0.2563 - val_accuracy: 0.9688\n",
      "Epoch 57/1000\n",
      "1241/1313 [===========================>..] - ETA: 0s - loss: 0.0231 - accuracy: 0.9945\n",
      "Epoch 00057: val_accuracy improved from 0.97033 to 0.97289, saving model to Model\\mnist1_057--0.9729.h5\n",
      "1313/1313 [==============================] - 1s 858us/step - loss: 0.0222 - accuracy: 0.9947 - val_loss: 0.2656 - val_accuracy: 0.9729\n",
      "Epoch 58/1000\n",
      "1254/1313 [===========================>..] - ETA: 0s - loss: 0.0206 - accuracy: 0.9961\n",
      "Epoch 00058: val_accuracy did not improve from 0.97289\n",
      "1313/1313 [==============================] - 1s 836us/step - loss: 0.0207 - accuracy: 0.9959 - val_loss: 0.2724 - val_accuracy: 0.9707\n",
      "Epoch 59/1000\n",
      "1239/1313 [===========================>..] - ETA: 0s - loss: 0.0187 - accuracy: 0.9957\n",
      "Epoch 00059: val_accuracy did not improve from 0.97289\n",
      "1313/1313 [==============================] - 1s 845us/step - loss: 0.0195 - accuracy: 0.9956 - val_loss: 0.3533 - val_accuracy: 0.9692\n",
      "Epoch 60/1000\n",
      "1262/1313 [===========================>..] - ETA: 0s - loss: 0.0157 - accuracy: 0.9963\n",
      "Epoch 00060: val_accuracy did not improve from 0.97289\n",
      "1313/1313 [==============================] - 1s 836us/step - loss: 0.0162 - accuracy: 0.9963 - val_loss: 0.3984 - val_accuracy: 0.9701\n",
      "Epoch 61/1000\n",
      "1268/1313 [===========================>..] - ETA: 0s - loss: 0.0231 - accuracy: 0.9947\n",
      "Epoch 00061: val_accuracy did not improve from 0.97289\n",
      "1313/1313 [==============================] - 1s 828us/step - loss: 0.0234 - accuracy: 0.9947 - val_loss: 0.4117 - val_accuracy: 0.9663\n",
      "Epoch 62/1000\n",
      "1272/1313 [============================>.] - ETA: 0s - loss: 0.0265 - accuracy: 0.9949\n",
      "Epoch 00062: val_accuracy did not improve from 0.97289\n",
      "1313/1313 [==============================] - 1s 828us/step - loss: 0.0280 - accuracy: 0.9948 - val_loss: 0.3180 - val_accuracy: 0.9678\n",
      "Epoch 63/1000\n",
      "1266/1313 [===========================>..] - ETA: 0s - loss: 0.0134 - accuracy: 0.9966\n",
      "Epoch 00063: val_accuracy did not improve from 0.97289\n",
      "1313/1313 [==============================] - 1s 828us/step - loss: 0.0137 - accuracy: 0.9966 - val_loss: 0.3688 - val_accuracy: 0.9706\n",
      "Epoch 64/1000\n",
      "1269/1313 [===========================>..] - ETA: 0s - loss: 0.0267 - accuracy: 0.9949\n",
      "Epoch 00064: val_accuracy did not improve from 0.97289\n",
      "1313/1313 [==============================] - 1s 841us/step - loss: 0.0268 - accuracy: 0.9949 - val_loss: 0.3936 - val_accuracy: 0.9636\n",
      "Epoch 65/1000\n",
      "1259/1313 [===========================>..] - ETA: 0s - loss: 0.0192 - accuracy: 0.9959\n",
      "Epoch 00065: val_accuracy did not improve from 0.97289\n",
      "1313/1313 [==============================] - 1s 842us/step - loss: 0.0195 - accuracy: 0.9958 - val_loss: 0.3067 - val_accuracy: 0.9704\n",
      "Epoch 66/1000\n",
      "1247/1313 [===========================>..] - ETA: 0s - loss: 0.0181 - accuracy: 0.9963\n",
      "Epoch 00066: val_accuracy did not improve from 0.97289\n",
      "1313/1313 [==============================] - 1s 849us/step - loss: 0.0178 - accuracy: 0.9963 - val_loss: 0.3621 - val_accuracy: 0.9714\n",
      "Epoch 67/1000\n",
      "1246/1313 [===========================>..] - ETA: 0s - loss: 0.0215 - accuracy: 0.9958\n",
      "Epoch 00067: val_accuracy did not improve from 0.97289\n",
      "1313/1313 [==============================] - 1s 844us/step - loss: 0.0217 - accuracy: 0.9957 - val_loss: 0.3957 - val_accuracy: 0.9668\n",
      "Epoch 68/1000\n",
      "1252/1313 [===========================>..] - ETA: 0s - loss: 0.0225 - accuracy: 0.9954\n",
      "Epoch 00068: val_accuracy did not improve from 0.97289\n",
      "1313/1313 [==============================] - 1s 840us/step - loss: 0.0232 - accuracy: 0.9953 - val_loss: 0.3779 - val_accuracy: 0.9684\n",
      "Epoch 69/1000\n",
      "1255/1313 [===========================>..] - ETA: 0s - loss: 0.0201 - accuracy: 0.9959\n",
      "Epoch 00069: val_accuracy did not improve from 0.97289\n",
      "1313/1313 [==============================] - 1s 835us/step - loss: 0.0199 - accuracy: 0.9959 - val_loss: 0.3707 - val_accuracy: 0.9710\n",
      "Epoch 70/1000\n",
      "1255/1313 [===========================>..] - ETA: 0s - loss: 0.0120 - accuracy: 0.9976\n",
      "Epoch 00070: val_accuracy did not improve from 0.97289\n",
      "1313/1313 [==============================] - 1s 844us/step - loss: 0.0117 - accuracy: 0.9976 - val_loss: 0.3449 - val_accuracy: 0.9687\n",
      "Epoch 71/1000\n",
      "1261/1313 [===========================>..] - ETA: 0s - loss: 0.0171 - accuracy: 0.9966\n",
      "Epoch 00071: val_accuracy did not improve from 0.97289\n",
      "1313/1313 [==============================] - 1s 834us/step - loss: 0.0176 - accuracy: 0.9965 - val_loss: 0.3700 - val_accuracy: 0.9667\n",
      "Epoch 72/1000\n",
      "1259/1313 [===========================>..] - ETA: 0s - loss: 0.0175 - accuracy: 0.9960\n",
      "Epoch 00072: val_accuracy did not improve from 0.97289\n",
      "1313/1313 [==============================] - 1s 830us/step - loss: 0.0171 - accuracy: 0.9960 - val_loss: 0.4321 - val_accuracy: 0.9679\n",
      "Epoch 73/1000\n",
      "1263/1313 [===========================>..] - ETA: 0s - loss: 0.0229 - accuracy: 0.9960\n",
      "Epoch 00073: val_accuracy did not improve from 0.97289\n",
      "1313/1313 [==============================] - 1s 839us/step - loss: 0.0227 - accuracy: 0.9960 - val_loss: 0.3299 - val_accuracy: 0.9707\n",
      "Epoch 74/1000\n",
      "1256/1313 [===========================>..] - ETA: 0s - loss: 0.0211 - accuracy: 0.9957\n",
      "Epoch 00074: val_accuracy did not improve from 0.97289\n",
      "1313/1313 [==============================] - 1s 833us/step - loss: 0.0210 - accuracy: 0.9958 - val_loss: 0.3831 - val_accuracy: 0.9678\n",
      "Epoch 75/1000\n",
      "1259/1313 [===========================>..] - ETA: 0s - loss: 0.0188 - accuracy: 0.9965\n",
      "Epoch 00075: val_accuracy did not improve from 0.97289\n",
      "1313/1313 [==============================] - 1s 830us/step - loss: 0.0190 - accuracy: 0.9965 - val_loss: 0.3234 - val_accuracy: 0.9697\n",
      "Epoch 76/1000\n",
      "1253/1313 [===========================>..] - ETA: 0s - loss: 0.0155 - accuracy: 0.9966\n",
      "Epoch 00076: val_accuracy did not improve from 0.97289\n",
      "1313/1313 [==============================] - 1s 836us/step - loss: 0.0155 - accuracy: 0.9966 - val_loss: 0.3287 - val_accuracy: 0.9693\n",
      "Epoch 77/1000\n",
      "1250/1313 [===========================>..] - ETA: 0s - loss: 0.0175 - accuracy: 0.9964\n",
      "Epoch 00077: val_accuracy did not improve from 0.97289\n",
      "1313/1313 [==============================] - 1s 840us/step - loss: 0.0168 - accuracy: 0.9965 - val_loss: 0.3463 - val_accuracy: 0.9707\n",
      "Epoch 78/1000\n",
      "1251/1313 [===========================>..] - ETA: 0s - loss: 0.0205 - accuracy: 0.9960\n",
      "Epoch 00078: val_accuracy did not improve from 0.97289\n",
      "1313/1313 [==============================] - 1s 836us/step - loss: 0.0208 - accuracy: 0.9959 - val_loss: 0.3669 - val_accuracy: 0.9693\n",
      "Epoch 79/1000\n",
      "1255/1313 [===========================>..] - ETA: 0s - loss: 0.0241 - accuracy: 0.9963\n",
      "Epoch 00079: val_accuracy did not improve from 0.97289\n",
      "1313/1313 [==============================] - 1s 835us/step - loss: 0.0237 - accuracy: 0.9963 - val_loss: 0.3918 - val_accuracy: 0.9692\n",
      "Epoch 80/1000\n",
      "1257/1313 [===========================>..] - ETA: 0s - loss: 0.0171 - accuracy: 0.9967\n",
      "Epoch 00080: val_accuracy did not improve from 0.97289\n",
      "1313/1313 [==============================] - 1s 833us/step - loss: 0.0177 - accuracy: 0.9966 - val_loss: 0.4465 - val_accuracy: 0.9686\n",
      "Epoch 81/1000\n",
      "1251/1313 [===========================>..] - ETA: 0s - loss: 0.0199 - accuracy: 0.9969\n",
      "Epoch 00081: val_accuracy did not improve from 0.97289\n",
      "1313/1313 [==============================] - 1s 837us/step - loss: 0.0199 - accuracy: 0.9969 - val_loss: 0.3432 - val_accuracy: 0.9692\n"
     ]
    },
    {
     "name": "stdout",
     "output_type": "stream",
     "text": [
      "Epoch 82/1000\n",
      "1264/1313 [===========================>..] - ETA: 0s - loss: 0.0175 - accuracy: 0.9962\n",
      "Epoch 00082: val_accuracy did not improve from 0.97289\n",
      "1313/1313 [==============================] - 1s 829us/step - loss: 0.0178 - accuracy: 0.9962 - val_loss: 0.4068 - val_accuracy: 0.9661\n",
      "Epoch 83/1000\n",
      "1259/1313 [===========================>..] - ETA: 0s - loss: 0.0142 - accuracy: 0.9973\n",
      "Epoch 00083: val_accuracy did not improve from 0.97289\n",
      "1313/1313 [==============================] - 1s 840us/step - loss: 0.0140 - accuracy: 0.9973 - val_loss: 0.3710 - val_accuracy: 0.9679\n",
      "Epoch 84/1000\n",
      "1253/1313 [===========================>..] - ETA: 0s - loss: 0.0106 - accuracy: 0.9980\n",
      "Epoch 00084: val_accuracy did not improve from 0.97289\n",
      "1313/1313 [==============================] - 1s 839us/step - loss: 0.0103 - accuracy: 0.9981 - val_loss: 0.4184 - val_accuracy: 0.9674\n",
      "Epoch 85/1000\n",
      "1259/1313 [===========================>..] - ETA: 0s - loss: 0.0240 - accuracy: 0.9956\n",
      "Epoch 00085: val_accuracy did not improve from 0.97289\n",
      "1313/1313 [==============================] - 1s 834us/step - loss: 0.0235 - accuracy: 0.9957 - val_loss: 0.3130 - val_accuracy: 0.9672\n",
      "Epoch 86/1000\n",
      "1248/1313 [===========================>..] - ETA: 0s - loss: 0.0150 - accuracy: 0.9971\n",
      "Epoch 00086: val_accuracy did not improve from 0.97289\n",
      "1313/1313 [==============================] - 1s 844us/step - loss: 0.0149 - accuracy: 0.9972 - val_loss: 0.3499 - val_accuracy: 0.9695\n",
      "Epoch 87/1000\n",
      "1252/1313 [===========================>..] - ETA: 0s - loss: 0.0104 - accuracy: 0.9979\n",
      "Epoch 00087: val_accuracy did not improve from 0.97289\n",
      "1313/1313 [==============================] - 1s 847us/step - loss: 0.0109 - accuracy: 0.9977 - val_loss: 0.4382 - val_accuracy: 0.9693\n",
      "Epoch 88/1000\n",
      "1247/1313 [===========================>..] - ETA: 0s - loss: 0.0119 - accuracy: 0.9972\n",
      "Epoch 00088: val_accuracy did not improve from 0.97289\n",
      "1313/1313 [==============================] - 1s 838us/step - loss: 0.0127 - accuracy: 0.9971 - val_loss: 0.4071 - val_accuracy: 0.9655\n",
      "Epoch 89/1000\n",
      "1260/1313 [===========================>..] - ETA: 0s - loss: 0.0250 - accuracy: 0.9953\n",
      "Epoch 00089: val_accuracy did not improve from 0.97289\n",
      "1313/1313 [==============================] - 1s 832us/step - loss: 0.0243 - accuracy: 0.9954 - val_loss: 0.5352 - val_accuracy: 0.9677\n",
      "Epoch 90/1000\n",
      "1258/1313 [===========================>..] - ETA: 0s - loss: 0.0238 - accuracy: 0.9962\n",
      "Epoch 00090: val_accuracy did not improve from 0.97289\n",
      "1313/1313 [==============================] - 1s 832us/step - loss: 0.0237 - accuracy: 0.9961 - val_loss: 0.4229 - val_accuracy: 0.9689\n",
      "Epoch 91/1000\n",
      "1254/1313 [===========================>..] - ETA: 0s - loss: 0.0146 - accuracy: 0.9974\n",
      "Epoch 00091: val_accuracy did not improve from 0.97289\n",
      "1313/1313 [==============================] - 1s 833us/step - loss: 0.0141 - accuracy: 0.9975 - val_loss: 0.4029 - val_accuracy: 0.9714\n",
      "Epoch 92/1000\n",
      "1261/1313 [===========================>..] - ETA: 0s - loss: 0.0070 - accuracy: 0.9984\n",
      "Epoch 00092: val_accuracy did not improve from 0.97289\n",
      "1313/1313 [==============================] - 1s 831us/step - loss: 0.0078 - accuracy: 0.9982 - val_loss: 0.5216 - val_accuracy: 0.9713\n",
      "Epoch 93/1000\n",
      "1261/1313 [===========================>..] - ETA: 0s - loss: 0.0281 - accuracy: 0.9950\n",
      "Epoch 00093: val_accuracy did not improve from 0.97289\n",
      "1313/1313 [==============================] - 1s 831us/step - loss: 0.0278 - accuracy: 0.9950 - val_loss: 0.3772 - val_accuracy: 0.9656\n",
      "Epoch 94/1000\n",
      "1258/1313 [===========================>..] - ETA: 0s - loss: 0.0185 - accuracy: 0.9971\n",
      "Epoch 00094: val_accuracy did not improve from 0.97289\n",
      "1313/1313 [==============================] - 1s 831us/step - loss: 0.0179 - accuracy: 0.9971 - val_loss: 0.4958 - val_accuracy: 0.9682\n",
      "Epoch 95/1000\n",
      "1238/1313 [===========================>..] - ETA: 0s - loss: 0.0199 - accuracy: 0.9966\n",
      "Epoch 00095: val_accuracy did not improve from 0.97289\n",
      "1313/1313 [==============================] - 1s 849us/step - loss: 0.0195 - accuracy: 0.9966 - val_loss: 0.3788 - val_accuracy: 0.9701\n",
      "Epoch 96/1000\n",
      "1261/1313 [===========================>..] - ETA: 0s - loss: 0.0208 - accuracy: 0.9963\n",
      "Epoch 00096: val_accuracy did not improve from 0.97289\n",
      "1313/1313 [==============================] - 1s 831us/step - loss: 0.0211 - accuracy: 0.9963 - val_loss: 0.4441 - val_accuracy: 0.9676\n",
      "Epoch 97/1000\n",
      "1241/1313 [===========================>..] - ETA: 0s - loss: 0.0151 - accuracy: 0.9969\n",
      "Epoch 00097: val_accuracy did not improve from 0.97289\n",
      "1313/1313 [==============================] - 1s 842us/step - loss: 0.0152 - accuracy: 0.9969 - val_loss: 0.5530 - val_accuracy: 0.9683\n",
      "Epoch 98/1000\n",
      "1245/1313 [===========================>..] - ETA: 0s - loss: 0.0215 - accuracy: 0.9968\n",
      "Epoch 00098: val_accuracy did not improve from 0.97289\n",
      "1313/1313 [==============================] - 1s 841us/step - loss: 0.0213 - accuracy: 0.9967 - val_loss: 0.4266 - val_accuracy: 0.9702\n",
      "Epoch 99/1000\n",
      "1252/1313 [===========================>..] - ETA: 0s - loss: 0.0078 - accuracy: 0.9983\n",
      "Epoch 00099: val_accuracy did not improve from 0.97289\n",
      "1313/1313 [==============================] - 1s 842us/step - loss: 0.0080 - accuracy: 0.9982 - val_loss: 0.6171 - val_accuracy: 0.9692\n",
      "Epoch 100/1000\n",
      "1255/1313 [===========================>..] - ETA: 0s - loss: 0.0229 - accuracy: 0.9957\n",
      "Epoch 00100: val_accuracy did not improve from 0.97289\n",
      "1313/1313 [==============================] - 1s 834us/step - loss: 0.0224 - accuracy: 0.9958 - val_loss: 0.4869 - val_accuracy: 0.9686\n",
      "Epoch 101/1000\n",
      "1308/1313 [============================>.] - ETA: 0s - loss: 0.0111 - accuracy: 0.9977\n",
      "Epoch 00101: val_accuracy did not improve from 0.97289\n",
      "1313/1313 [==============================] - 1s 855us/step - loss: 0.0111 - accuracy: 0.9977 - val_loss: 0.4379 - val_accuracy: 0.9674\n",
      "Epoch 102/1000\n",
      "1247/1313 [===========================>..] - ETA: 0s - loss: 0.0246 - accuracy: 0.9960\n",
      "Epoch 00102: val_accuracy did not improve from 0.97289\n",
      "1313/1313 [==============================] - 1s 852us/step - loss: 0.0241 - accuracy: 0.9960 - val_loss: 0.3910 - val_accuracy: 0.9689\n",
      "Epoch 103/1000\n",
      "1258/1313 [===========================>..] - ETA: 0s - loss: 0.0156 - accuracy: 0.9969\n",
      "Epoch 00103: val_accuracy did not improve from 0.97289\n",
      "1313/1313 [==============================] - 1s 844us/step - loss: 0.0154 - accuracy: 0.9969 - val_loss: 0.3731 - val_accuracy: 0.9703\n",
      "Epoch 104/1000\n",
      "1237/1313 [===========================>..] - ETA: 0s - loss: 0.0156 - accuracy: 0.9971\n",
      "Epoch 00104: val_accuracy did not improve from 0.97289\n",
      "1313/1313 [==============================] - 1s 842us/step - loss: 0.0148 - accuracy: 0.9973 - val_loss: 0.4086 - val_accuracy: 0.9713\n",
      "Epoch 105/1000\n",
      "1252/1313 [===========================>..] - ETA: 0s - loss: 0.0172 - accuracy: 0.9972\n",
      "Epoch 00105: val_accuracy did not improve from 0.97289\n",
      "1313/1313 [==============================] - 1s 838us/step - loss: 0.0174 - accuracy: 0.9971 - val_loss: 0.4235 - val_accuracy: 0.9699\n",
      "Epoch 106/1000\n",
      "1251/1313 [===========================>..] - ETA: 0s - loss: 0.0131 - accuracy: 0.9975\n",
      "Epoch 00106: val_accuracy did not improve from 0.97289\n",
      "1313/1313 [==============================] - 1s 836us/step - loss: 0.0126 - accuracy: 0.9975 - val_loss: 0.4798 - val_accuracy: 0.9685\n",
      "Epoch 107/1000\n",
      "1257/1313 [===========================>..] - ETA: 0s - loss: 0.0154 - accuracy: 0.9973\n",
      "Epoch 00107: val_accuracy did not improve from 0.97289\n",
      "1313/1313 [==============================] - 1s 841us/step - loss: 0.0160 - accuracy: 0.9972 - val_loss: 0.5091 - val_accuracy: 0.9677\n"
     ]
    },
    {
     "data": {
      "text/plain": [
       "<tensorflow.python.keras.callbacks.History at 0x1e291fe5e88>"
      ]
     },
     "execution_count": 75,
     "metadata": {},
     "output_type": "execute_result"
    }
   ],
   "source": [
    "model = Sequential()\n",
    "model.add(Dense(100, input_dim=784, activation='relu' ))  # 1차 배열 모두 넣어야해서 28*28 = 784개로 작성\n",
    "model.add(Dense(50, activation='relu' ))\n",
    "model.add(Dense(30, activation='relu' ))\n",
    "model.add(Dense(10, activation='softmax' ))\n",
    "model.compile(loss='categorical_crossentropy',\n",
    "             optimizer='adam', \n",
    "             metrics=['accuracy'])\n",
    "model.fit(X_train_reshape, y_train_cat, epochs=1000, validation_split=0.3, verbose=1, callbacks=[checkpoint, earlystop])"
   ]
  },
  {
   "cell_type": "code",
   "execution_count": 94,
   "metadata": {},
   "outputs": [],
   "source": [
    "lomodel=load_model('./Model/mnist1_057--0.9729.h5')"
   ]
  },
  {
   "cell_type": "code",
   "execution_count": 96,
   "metadata": {},
   "outputs": [
    {
     "name": "stdout",
     "output_type": "stream",
     "text": [
      "1875/1875 [==============================] - 1s 767us/step - loss: 0.0841 - accuracy: 0.9908\n"
     ]
    },
    {
     "data": {
      "text/plain": [
       "[0.08408202230930328, 0.9908000230789185]"
      ]
     },
     "execution_count": 96,
     "metadata": {},
     "output_type": "execute_result"
    }
   ],
   "source": [
    "lomodel.evaluate(X_train_reshape, y_train_cat)"
   ]
  },
  {
   "cell_type": "code",
   "execution_count": 95,
   "metadata": {},
   "outputs": [
    {
     "name": "stdout",
     "output_type": "stream",
     "text": [
      "313/313 [==============================] - 0s 446us/step - loss: 0.2212 - accuracy: 0.9729\n"
     ]
    },
    {
     "data": {
      "text/plain": [
       "[0.22118528187274933, 0.9728999733924866]"
      ]
     },
     "execution_count": 95,
     "metadata": {},
     "output_type": "execute_result"
    }
   ],
   "source": [
    "lomodel.evaluate(X_test_reshape, y_test_cat)"
   ]
  },
  {
   "cell_type": "code",
   "execution_count": null,
   "metadata": {},
   "outputs": [],
   "source": []
  },
  {
   "cell_type": "markdown",
   "metadata": {},
   "source": [
    "### 정규화"
   ]
  },
  {
   "cell_type": "code",
   "execution_count": 97,
   "metadata": {},
   "outputs": [],
   "source": [
    "X_train_reshape_nor = X_train_reshape / 255   # 255값만 1 나머지 0으로\n",
    "X_test_reshape_nor = X_test_reshape / 255"
   ]
  },
  {
   "cell_type": "code",
   "execution_count": 98,
   "metadata": {},
   "outputs": [
    {
     "data": {
      "text/plain": [
       "array([[0., 0., 0., ..., 0., 0., 0.],\n",
       "       [0., 0., 0., ..., 0., 0., 0.],\n",
       "       [0., 0., 0., ..., 0., 0., 0.],\n",
       "       ...,\n",
       "       [0., 0., 0., ..., 0., 0., 0.],\n",
       "       [0., 0., 0., ..., 0., 0., 0.],\n",
       "       [0., 0., 0., ..., 0., 0., 0.]])"
      ]
     },
     "execution_count": 98,
     "metadata": {},
     "output_type": "execute_result"
    }
   ],
   "source": [
    "X_train_reshape_nor."
   ]
  },
  {
   "cell_type": "markdown",
   "metadata": {},
   "source": [
    "## 과연 컴퓨터가 제대로 분류못한 숫자는?"
   ]
  },
  {
   "cell_type": "code",
   "execution_count": 103,
   "metadata": {
    "scrolled": true
   },
   "outputs": [
    {
     "data": {
      "text/plain": [
       "array([[[0, 0, 0, ..., 0, 0, 0],\n",
       "        [0, 0, 0, ..., 0, 0, 0],\n",
       "        [0, 0, 0, ..., 0, 0, 0],\n",
       "        ...,\n",
       "        [0, 0, 0, ..., 0, 0, 0],\n",
       "        [0, 0, 0, ..., 0, 0, 0],\n",
       "        [0, 0, 0, ..., 0, 0, 0]],\n",
       "\n",
       "       [[0, 0, 0, ..., 0, 0, 0],\n",
       "        [0, 0, 0, ..., 0, 0, 0],\n",
       "        [0, 0, 0, ..., 0, 0, 0],\n",
       "        ...,\n",
       "        [0, 0, 0, ..., 0, 0, 0],\n",
       "        [0, 0, 0, ..., 0, 0, 0],\n",
       "        [0, 0, 0, ..., 0, 0, 0]],\n",
       "\n",
       "       [[0, 0, 0, ..., 0, 0, 0],\n",
       "        [0, 0, 0, ..., 0, 0, 0],\n",
       "        [0, 0, 0, ..., 0, 0, 0],\n",
       "        ...,\n",
       "        [0, 0, 0, ..., 0, 0, 0],\n",
       "        [0, 0, 0, ..., 0, 0, 0],\n",
       "        [0, 0, 0, ..., 0, 0, 0]],\n",
       "\n",
       "       ...,\n",
       "\n",
       "       [[0, 0, 0, ..., 0, 0, 0],\n",
       "        [0, 0, 0, ..., 0, 0, 0],\n",
       "        [0, 0, 0, ..., 0, 0, 0],\n",
       "        ...,\n",
       "        [0, 0, 0, ..., 0, 0, 0],\n",
       "        [0, 0, 0, ..., 0, 0, 0],\n",
       "        [0, 0, 0, ..., 0, 0, 0]],\n",
       "\n",
       "       [[0, 0, 0, ..., 0, 0, 0],\n",
       "        [0, 0, 0, ..., 0, 0, 0],\n",
       "        [0, 0, 0, ..., 0, 0, 0],\n",
       "        ...,\n",
       "        [0, 0, 0, ..., 0, 0, 0],\n",
       "        [0, 0, 0, ..., 0, 0, 0],\n",
       "        [0, 0, 0, ..., 0, 0, 0]],\n",
       "\n",
       "       [[0, 0, 0, ..., 0, 0, 0],\n",
       "        [0, 0, 0, ..., 0, 0, 0],\n",
       "        [0, 0, 0, ..., 0, 0, 0],\n",
       "        ...,\n",
       "        [0, 0, 0, ..., 0, 0, 0],\n",
       "        [0, 0, 0, ..., 0, 0, 0],\n",
       "        [0, 0, 0, ..., 0, 0, 0]]], dtype=uint8)"
      ]
     },
     "execution_count": 103,
     "metadata": {},
     "output_type": "execute_result"
    }
   ],
   "source": [
    "X_test[lomodel.predict_classes(X_test_reshape) != y_test]"
   ]
  },
  {
   "cell_type": "code",
   "execution_count": 100,
   "metadata": {},
   "outputs": [
    {
     "data": {
      "text/plain": [
       "array([7, 2, 1, ..., 4, 5, 6], dtype=int64)"
      ]
     },
     "execution_count": 100,
     "metadata": {},
     "output_type": "execute_result"
    }
   ],
   "source": [
    "# 예측하지 못한 데이터 5번째 이미지 확인\n",
    "num=5\n",
    "\n",
    "y_pred = lomodel.predict_classes(X_test_reshape)\n",
    "y_pred"
   ]
  },
  {
   "cell_type": "code",
   "execution_count": 105,
   "metadata": {},
   "outputs": [
    {
     "name": "stdout",
     "output_type": "stream",
     "text": [
      "실제값 :  5\n",
      "예측값 :  3\n"
     ]
    },
    {
     "data": {
      "image/png": "[encoded data removed]",
      "text/plain": [
       "<Figure size 432x288 with 1 Axes>"
      ]
     },
     "metadata": {
      "needs_background": "light"
     },
     "output_type": "display_data"
    }
   ],
   "source": [
    "plt.imshow( X_test[y_pred != y_test][num])\n",
    "print(\"실제값 : \", y_test[y_pred != y_test][num])\n",
    "print(\"예측값 : \", y_pred[y_pred != y_test][num])"
   ]
  },
  {
   "cell_type": "code",
   "execution_count": null,
   "metadata": {},
   "outputs": [],
   "source": []
  },
  {
   "cell_type": "code",
   "execution_count": 106,
   "metadata": {},
   "outputs": [
    {
     "name": "stdout",
     "output_type": "stream",
     "text": [
      "실제값 :  3\n",
      "예측값 :  7\n"
     ]
    },
    {
     "data": {
      "image/png": "[encoded data removed]",
      "text/plain": [
       "<Figure size 432x288 with 1 Axes>"
      ]
     },
     "metadata": {
      "needs_background": "light"
     },
     "output_type": "display_data"
    }
   ],
   "source": [
    "num=5\n",
    "\n",
    "y_predi = model.predict_classes(X_test_reshape)\n",
    "y_predi\n",
    "\n",
    "plt.imshow( X_test[y_predi != y_test][num])\n",
    "print(\"실제값 : \", y_test[y_predi != y_test][num])\n",
    "print(\"예측값 : \", y_predi[y_predi != y_test][num])"
   ]
  },
  {
   "cell_type": "code",
   "execution_count": null,
   "metadata": {},
   "outputs": [],
   "source": []
  },
  {
   "cell_type": "code",
   "execution_count": 109,
   "metadata": {},
   "outputs": [
    {
     "data": {
      "image/png": "[encoded data removed]",
      "text/plain": [
       "<Figure size 432x288 with 1 Axes>"
      ]
     },
     "metadata": {
      "needs_background": "light"
     },
     "output_type": "display_data"
    },
    {
     "name": "stdout",
     "output_type": "stream",
     "text": [
      "실제값 :  9\n",
      "예측값 :  5\n"
     ]
    },
    {
     "data": {
      "image/png": "[encoded data removed]",
      "text/plain": [
       "<Figure size 432x288 with 1 Axes>"
      ]
     },
     "metadata": {
      "needs_background": "light"
     },
     "output_type": "display_data"
    },
    {
     "name": "stdout",
     "output_type": "stream",
     "text": [
      "실제값 :  4\n",
      "예측값 :  9\n"
     ]
    },
    {
     "data": {
      "image/png": "[encoded data removed]",
      "text/plain": [
       "<Figure size 432x288 with 1 Axes>"
      ]
     },
     "metadata": {
      "needs_background": "light"
     },
     "output_type": "display_data"
    },
    {
     "name": "stdout",
     "output_type": "stream",
     "text": [
      "실제값 :  4\n",
      "예측값 :  6\n"
     ]
    },
    {
     "data": {
      "image/png": "[encoded data removed]",
      "text/plain": [
       "<Figure size 432x288 with 1 Axes>"
      ]
     },
     "metadata": {
      "needs_background": "light"
     },
     "output_type": "display_data"
    },
    {
     "name": "stdout",
     "output_type": "stream",
     "text": [
      "실제값 :  9\n",
      "예측값 :  8\n"
     ]
    },
    {
     "data": {
      "image/png": "[encoded data removed]",
      "text/plain": [
       "<Figure size 432x288 with 1 Axes>"
      ]
     },
     "metadata": {
      "needs_background": "light"
     },
     "output_type": "display_data"
    },
    {
     "name": "stdout",
     "output_type": "stream",
     "text": [
      "실제값 :  2\n",
      "예측값 :  7\n"
     ]
    },
    {
     "data": {
      "image/png": "[encoded data removed]",
      "text/plain": [
       "<Figure size 432x288 with 1 Axes>"
      ]
     },
     "metadata": {
      "needs_background": "light"
     },
     "output_type": "display_data"
    },
    {
     "name": "stdout",
     "output_type": "stream",
     "text": [
      "실제값 :  5\n",
      "예측값 :  3\n"
     ]
    },
    {
     "data": {
      "image/png": "[encoded data removed]",
      "text/plain": [
       "<Figure size 432x288 with 1 Axes>"
      ]
     },
     "metadata": {
      "needs_background": "light"
     },
     "output_type": "display_data"
    },
    {
     "name": "stdout",
     "output_type": "stream",
     "text": [
      "실제값 :  3\n",
      "예측값 :  7\n"
     ]
    },
    {
     "data": {
      "image/png": "[encoded data removed]",
      "text/plain": [
       "<Figure size 432x288 with 1 Axes>"
      ]
     },
     "metadata": {
      "needs_background": "light"
     },
     "output_type": "display_data"
    },
    {
     "name": "stdout",
     "output_type": "stream",
     "text": [
      "실제값 :  6\n",
      "예측값 :  0\n"
     ]
    },
    {
     "data": {
      "image/png": "[encoded data removed]",
      "text/plain": [
       "<Figure size 432x288 with 1 Axes>"
      ]
     },
     "metadata": {
      "needs_background": "light"
     },
     "output_type": "display_data"
    },
    {
     "name": "stdout",
     "output_type": "stream",
     "text": [
      "실제값 :  4\n",
      "예측값 :  9\n"
     ]
    },
    {
     "data": {
      "image/png": "[encoded data removed]",
      "text/plain": [
       "<Figure size 432x288 with 1 Axes>"
      ]
     },
     "metadata": {
      "needs_background": "light"
     },
     "output_type": "display_data"
    },
    {
     "name": "stdout",
     "output_type": "stream",
     "text": [
      "실제값 :  9\n",
      "예측값 :  8\n"
     ]
    },
    {
     "data": {
      "image/png": "[encoded data removed]",
      "text/plain": [
       "<Figure size 432x288 with 1 Axes>"
      ]
     },
     "metadata": {
      "needs_background": "light"
     },
     "output_type": "display_data"
    },
    {
     "name": "stdout",
     "output_type": "stream",
     "text": [
      "실제값 :  8\n",
      "예측값 :  0\n"
     ]
    },
    {
     "data": {
      "image/png": "[encoded data removed]",
      "text/plain": [
       "<Figure size 432x288 with 1 Axes>"
      ]
     },
     "metadata": {
      "needs_background": "light"
     },
     "output_type": "display_data"
    },
    {
     "name": "stdout",
     "output_type": "stream",
     "text": [
      "실제값 :  8\n",
      "예측값 :  4\n"
     ]
    },
    {
     "data": {
      "image/png": "[encoded data removed]",
      "text/plain": [
       "<Figure size 432x288 with 1 Axes>"
      ]
     },
     "metadata": {
      "needs_background": "light"
     },
     "output_type": "display_data"
    },
    {
     "name": "stdout",
     "output_type": "stream",
     "text": [
      "실제값 :  0\n",
      "예측값 :  4\n"
     ]
    },
    {
     "data": {
      "image/png": "[encoded data removed]",
      "text/plain": [
       "<Figure size 432x288 with 1 Axes>"
      ]
     },
     "metadata": {
      "needs_background": "light"
     },
     "output_type": "display_data"
    },
    {
     "name": "stdout",
     "output_type": "stream",
     "text": [
      "실제값 :  8\n",
      "예측값 :  2\n"
     ]
    },
    {
     "data": {
      "image/png": "[encoded data removed]",
      "text/plain": [
       "<Figure size 432x288 with 1 Axes>"
      ]
     },
     "metadata": {
      "needs_background": "light"
     },
     "output_type": "display_data"
    },
    {
     "name": "stdout",
     "output_type": "stream",
     "text": [
      "실제값 :  4\n",
      "예측값 :  2\n"
     ]
    },
    {
     "data": {
      "image/png": "[encoded data removed]",
      "text/plain": [
       "<Figure size 432x288 with 1 Axes>"
      ]
     },
     "metadata": {
      "needs_background": "light"
     },
     "output_type": "display_data"
    },
    {
     "name": "stdout",
     "output_type": "stream",
     "text": [
      "실제값 :  1\n",
      "예측값 :  2\n"
     ]
    },
    {
     "data": {
      "image/png": "[encoded data removed]",
      "text/plain": [
       "<Figure size 432x288 with 1 Axes>"
      ]
     },
     "metadata": {
      "needs_background": "light"
     },
     "output_type": "display_data"
    },
    {
     "name": "stdout",
     "output_type": "stream",
     "text": [
      "실제값 :  2\n",
      "예측값 :  6\n"
     ]
    },
    {
     "data": {
      "image/png": "[encoded data removed]",
      "text/plain": [
       "<Figure size 432x288 with 1 Axes>"
      ]
     },
     "metadata": {
      "needs_background": "light"
     },
     "output_type": "display_data"
    },
    {
     "name": "stdout",
     "output_type": "stream",
     "text": [
      "실제값 :  2\n",
      "예측값 :  7\n"
     ]
    },
    {
     "data": {
      "image/png": "[encoded data removed]",
      "text/plain": [
       "<Figure size 432x288 with 1 Axes>"
      ]
     },
     "metadata": {
      "needs_background": "light"
     },
     "output_type": "display_data"
    },
    {
     "name": "stdout",
     "output_type": "stream",
     "text": [
      "실제값 :  4\n",
      "예측값 :  9\n"
     ]
    },
    {
     "data": {
      "image/png": "[encoded data removed]",
      "text/plain": [
       "<Figure size 432x288 with 1 Axes>"
      ]
     },
     "metadata": {
      "needs_background": "light"
     },
     "output_type": "display_data"
    },
    {
     "name": "stdout",
     "output_type": "stream",
     "text": [
      "실제값 :  0\n",
      "예측값 :  6\n"
     ]
    }
   ],
   "source": [
    "for i in range(20) :\n",
    "    plt.imshow( X_test[y_pred != y_test][i])\n",
    "    plt.show()\n",
    "    print(\"실제값 : \", y_test[y_pred != y_test][i])\n",
    "    print(\"예측값 : \", y_pred[y_pred != y_test][i])"
   ]
  },
  {
   "cell_type": "code",
   "execution_count": null,
   "metadata": {},
   "outputs": [],
   "source": []
  },
  {
   "cell_type": "code",
   "execution_count": 111,
   "metadata": {},
   "outputs": [],
   "source": [
    "import PIL.Image as pilimg"
   ]
  },
  {
   "cell_type": "code",
   "execution_count": 187,
   "metadata": {},
   "outputs": [],
   "source": [
    "img = pilimg.open('./data/numberCheck2.png')\n",
    "train = np.array(img)"
   ]
  },
  {
   "cell_type": "code",
   "execution_count": 188,
   "metadata": {
    "scrolled": true
   },
   "outputs": [
    {
     "data": {
      "text/plain": [
       "array([[[0, 0, 0],\n",
       "        [0, 0, 0],\n",
       "        [0, 0, 0],\n",
       "        ...,\n",
       "        [0, 0, 0],\n",
       "        [0, 0, 0],\n",
       "        [0, 0, 0]],\n",
       "\n",
       "       [[0, 0, 0],\n",
       "        [0, 0, 0],\n",
       "        [0, 0, 0],\n",
       "        ...,\n",
       "        [0, 0, 0],\n",
       "        [0, 0, 0],\n",
       "        [0, 0, 0]],\n",
       "\n",
       "       [[0, 0, 0],\n",
       "        [0, 0, 0],\n",
       "        [0, 0, 0],\n",
       "        ...,\n",
       "        [0, 0, 0],\n",
       "        [0, 0, 0],\n",
       "        [0, 0, 0]],\n",
       "\n",
       "       ...,\n",
       "\n",
       "       [[0, 0, 0],\n",
       "        [0, 0, 0],\n",
       "        [0, 0, 0],\n",
       "        ...,\n",
       "        [0, 0, 0],\n",
       "        [0, 0, 0],\n",
       "        [0, 0, 0]],\n",
       "\n",
       "       [[0, 0, 0],\n",
       "        [0, 0, 0],\n",
       "        [0, 0, 0],\n",
       "        ...,\n",
       "        [0, 0, 0],\n",
       "        [0, 0, 0],\n",
       "        [0, 0, 0]],\n",
       "\n",
       "       [[0, 0, 0],\n",
       "        [0, 0, 0],\n",
       "        [0, 0, 0],\n",
       "        ...,\n",
       "        [0, 0, 0],\n",
       "        [0, 0, 0],\n",
       "        [0, 0, 0]]], dtype=uint8)"
      ]
     },
     "execution_count": 188,
     "metadata": {},
     "output_type": "execute_result"
    }
   ],
   "source": [
    "train"
   ]
  },
  {
   "cell_type": "code",
   "execution_count": 189,
   "metadata": {},
   "outputs": [
    {
     "data": {
      "image/png": "[encoded data removed]",
      "text/plain": [
       "<Figure size 432x288 with 1 Axes>"
      ]
     },
     "metadata": {
      "needs_background": "light"
     },
     "output_type": "display_data"
    }
   ],
   "source": [
    "plt.imshow(train)\n",
    "plt.show()"
   ]
  },
  {
   "cell_type": "code",
   "execution_count": 190,
   "metadata": {},
   "outputs": [
    {
     "data": {
      "text/plain": [
       "(28, 28, 3)"
      ]
     },
     "execution_count": 190,
     "metadata": {},
     "output_type": "execute_result"
    }
   ],
   "source": [
    "train.shape"
   ]
  },
  {
   "cell_type": "code",
   "execution_count": 191,
   "metadata": {},
   "outputs": [
    {
     "data": {
      "text/plain": [
       "(3, 784)"
      ]
     },
     "execution_count": 191,
     "metadata": {},
     "output_type": "execute_result"
    }
   ],
   "source": [
    "train_reshape = train.reshape(train.shape[2], train.shape[0]*train.shape[1])\n",
    "train_reshape.shape"
   ]
  },
  {
   "cell_type": "code",
   "execution_count": 192,
   "metadata": {},
   "outputs": [
    {
     "data": {
      "text/plain": [
       "array([2, 2, 5], dtype=int64)"
      ]
     },
     "execution_count": 192,
     "metadata": {},
     "output_type": "execute_result"
    }
   ],
   "source": [
    "model.predict_classes(train_reshape)"
   ]
  },
  {
   "cell_type": "code",
   "execution_count": 193,
   "metadata": {},
   "outputs": [
    {
     "data": {
      "text/plain": [
       "array([2, 7, 5], dtype=int64)"
      ]
     },
     "execution_count": 193,
     "metadata": {},
     "output_type": "execute_result"
    }
   ],
   "source": [
    "lomodel.predict_classes(train_reshape)"
   ]
  },
  {
   "cell_type": "code",
   "execution_count": 194,
   "metadata": {
    "scrolled": true
   },
   "outputs": [
    {
     "name": "stdout",
     "output_type": "stream",
     "text": [
      "[  0   0   0   0   0   0   0   0   0   0   0   0   0   0   0   0   0   0\n",
      "   0   0   0   0   0   0   0   0   0   0   0   0   0   0   0   0   0   0\n",
      "   0   0   0   0   0   0   0   0   0   0   0   0   0 255 255 255 255 255\n",
      " 255 255 255 255 255 255 255 255 255 255 255 255 255 255 255 255 255 255\n",
      " 255 255 255 255 255 255 255 255 255 255   0   0   0   0   0   0   0   0\n",
      "   0   0   0   0   0   0   0   0   0   0   0   0   0   0   0   0   0   0\n",
      "   0   0   0   0   0   0   0   0   0   0   0   0   0   0   0   0   0   0\n",
      "   0   0   0   0   0   0   0 255 255 255 255 255 255 255 255 255 255 255\n",
      " 255 255 255 255 255 255 255 255 255 255 255 255 255 255 255 255 255 255\n",
      " 255   0   0   0   0   0   0   0   0   0   0   0   0   0   0   0   0   0\n",
      "   0   0   0   0   0   0   0   0   0   0   0   0   0   0   0   0   0   0\n",
      "   0   0   0   0   0   0   0   0   0   0   0   0   0   0   0   0   0   0\n",
      "   0   0   0   0 255 255 255 255 255 255 255 255 255 255 255 255 255 255\n",
      " 255   0   0   0   0   0   0   0   0   0   0   0   0   0   0   0   0   0\n",
      "   0   0   0   0   0   0   0   0   0   0   0   0   0   0   0   0   0   0\n",
      "   0   0   0   0   0   0   0   0   0   0   0   0   0   0   0   0   0   0\n",
      "   0   0   0   0   0   0   0   0   0   0   0   0   0   0   0   0   0   0\n",
      "   0   0   0   0   0   0   0   0   0   0   0   0   0   0   0   0   0   0\n",
      "   0   0   0   0   0   0   0   0   0   0   0   0   0   0   0   0   0   0\n",
      "   0   0   0   0   0   0   0   0   0   0   0   0   0   0   0   0   0   0\n",
      "   0   0   0   0   0   0   0   0   0   0   0   0   0   0   0   0   0   0\n",
      "   0   0   0   0   0   0   0   0   0   0   0   0   0   0   0   0   0   0\n",
      "   0   0   0   0   0   0   0   0   0   0   0   0   0   0   0   0   0   0\n",
      "   0   0   0   0   0   0   0   0   0   0   0   0   0   0   0   0   0   0\n",
      "   0   0   0   0   0   0   0   0   0   0   0   0   0   0   0   0   0   0\n",
      "   0   0   0   0   0   0   0   0   0   0   0   0   0   0   0   0   0   0\n",
      "   0   0   0   0   0   0   0   0   0   0   0   0   0   0   0   0   0   0\n",
      "   0   0   0   0   0   0   0   0   0   0   0   0   0   0   0   0   0   0\n",
      "   0   0   0   0   0   0   0   0   0   0   0   0   0   0   0   0   0   0\n",
      "   0   0   0   0   0   0   0   0   0   0   0   0   0   0   0   0   0   0\n",
      "   0   0   0   0   0   0   0   0   0   0   0   0   0   0   0   0   0   0\n",
      "   0   0   0   0   0   0   0   0   0   0   0   0   0   0   0   0   0   0\n",
      "   0   0   0   0   0   0   0   0   0   0   0   0   0   0   0   0   0   0\n",
      "   0   0   0   0   0   0   0   0   0   0   0   0   0   0   0   0   0   0\n",
      "   0   0   0   0   0   0   0   0   0   0   0   0   0   0   0   0   0   0\n",
      "   0   0   0   0   0   0   0   0   0   0   0   0   0   0   0   0   0   0\n",
      "   0   0   0   0   0   0   0   0   0   0   0   0   0   0   0   0   0   0\n",
      "   0   0   0   0   0   0   0   0   0   0   0   0   0   0   0   0   0   0\n",
      "   0   0   0   0   0   0   0   0   0   0   0   0   0   0   0   0   0   0\n",
      "   0   0   0   0   0   0   0   0   0   0   0   0   0   0   0   0   0   0\n",
      "   0   0   0   0   0   0   0   0   0   0   0   0   0   0   0   0   0   0\n",
      "   0   0   0   0   0   0   0   0   0   0   0   0   0   0   0   0   0   0\n",
      "   0   0   0   0   0   0   0   0   0   0   0   0   0   0   0   0   0   0\n",
      "   0   0   0   0   0   0   0   0   0   0]\n"
     ]
    }
   ],
   "source": [
    "print(train_reshape[2])"
   ]
  },
  {
   "cell_type": "code",
   "execution_count": null,
   "metadata": {},
   "outputs": [],
   "source": []
  },
  {
   "cell_type": "code",
   "execution_count": 198,
   "metadata": {},
   "outputs": [
    {
     "name": "stdout",
     "output_type": "stream",
     "text": [
      "28 28\n",
      "[(0, 0, 0), (0, 0, 0), (0, 0, 0), (0, 0, 0), (0, 0, 0), (0, 0, 0), (0, 0, 0), (0, 0, 0), (0, 0, 0), (0, 0, 0), (0, 0, 0), (0, 0, 0), (0, 0, 0), (0, 0, 0), (0, 0, 0), (0, 0, 0), (0, 0, 0), (0, 0, 0), (0, 0, 0), (0, 0, 0), (0, 0, 0), (0, 0, 0), (0, 0, 0), (0, 0, 0), (0, 0, 0), (0, 0, 0), (0, 0, 0), (0, 0, 0), (0, 0, 0), (0, 0, 0), (0, 0, 0), (0, 0, 0), (0, 0, 0), (0, 0, 0), (0, 0, 0), (0, 0, 0), (0, 0, 0), (0, 0, 0), (0, 0, 0), (0, 0, 0), (0, 0, 0), (0, 0, 0), (0, 0, 0), (0, 0, 0), (0, 0, 0), (0, 0, 0), (0, 0, 0), (0, 0, 0), (0, 0, 0), (0, 0, 0), (0, 0, 0), (0, 0, 0), (0, 0, 0), (0, 0, 0), (0, 0, 0), (0, 0, 0), (0, 0, 0), (0, 0, 0), (0, 0, 0), (0, 0, 0), (0, 0, 0), (0, 0, 0), (0, 0, 0), (0, 0, 0), (0, 0, 0), (0, 0, 0), (0, 0, 0), (0, 0, 0), (0, 0, 0), (0, 0, 0), (0, 0, 0), (0, 0, 0), (0, 0, 0), (0, 0, 0), (0, 0, 0), (0, 0, 0), (0, 0, 0), (0, 0, 0), (0, 0, 0), (0, 0, 0), (0, 0, 0), (0, 0, 0), (0, 0, 0), (0, 0, 0), (0, 0, 0), (0, 0, 0), (0, 0, 0), (0, 0, 0), (0, 0, 0), (0, 0, 0), (0, 0, 0), (0, 0, 0), (0, 0, 0), (0, 0, 0), (0, 0, 0), (0, 0, 0), (255, 255, 255), (255, 255, 255), (255, 255, 255), (255, 255, 255), (255, 255, 255), (255, 255, 255), (255, 255, 255), (0, 0, 0), (0, 0, 0), (0, 0, 0), (0, 0, 0), (0, 0, 0), (0, 0, 0), (0, 0, 0), (0, 0, 0), (0, 0, 0), (0, 0, 0), (0, 0, 0), (0, 0, 0), (0, 0, 0), (0, 0, 0), (0, 0, 0), (0, 0, 0), (0, 0, 0), (0, 0, 0), (0, 0, 0), (255, 255, 255), (255, 255, 255), (255, 255, 255), (255, 255, 255), (255, 255, 255), (255, 255, 255), (255, 255, 255), (255, 255, 255), (255, 255, 255), (255, 255, 255), (0, 0, 0), (0, 0, 0), (0, 0, 0), (0, 0, 0), (0, 0, 0), (0, 0, 0), (0, 0, 0), (0, 0, 0), (0, 0, 0), (0, 0, 0), (0, 0, 0), (0, 0, 0), (0, 0, 0), (0, 0, 0), (0, 0, 0), (255, 255, 255), (255, 255, 255), (255, 255, 255), (255, 255, 255), (255, 255, 255), (255, 255, 255), (255, 255, 255), (255, 255, 255), (255, 255, 255), (255, 255, 255), (255, 255, 255), (255, 255, 255), (255, 255, 255), (0, 0, 0), (0, 0, 0), (0, 0, 0), (0, 0, 0), (0, 0, 0), (0, 0, 0), (0, 0, 0), (0, 0, 0), (0, 0, 0), (0, 0, 0), (0, 0, 0), (0, 0, 0), (0, 0, 0), (0, 0, 0), (0, 0, 0), (255, 255, 255), (255, 255, 255), (255, 255, 255), (255, 255, 255), (255, 255, 255), (255, 255, 255), (0, 0, 0), (0, 0, 0), (0, 0, 0), (255, 255, 255), (255, 255, 255), (255, 255, 255), (255, 255, 255), (0, 0, 0), (0, 0, 0), (0, 0, 0), (0, 0, 0), (0, 0, 0), (0, 0, 0), (0, 0, 0), (0, 0, 0), (0, 0, 0), (0, 0, 0), (0, 0, 0), (0, 0, 0), (0, 0, 0), (0, 0, 0), (255, 255, 255), (255, 255, 255), (255, 255, 255), (255, 255, 255), (0, 0, 0), (0, 0, 0), (0, 0, 0), (0, 0, 0), (0, 0, 0), (0, 0, 0), (0, 0, 0), (255, 255, 255), (255, 255, 255), (255, 255, 255), (0, 0, 0), (0, 0, 0), (0, 0, 0), (0, 0, 0), (0, 0, 0), (0, 0, 0), (0, 0, 0), (0, 0, 0), (0, 0, 0), (0, 0, 0), (0, 0, 0), (0, 0, 0), (0, 0, 0), (0, 0, 0), (255, 255, 255), (255, 255, 255), (0, 0, 0), (0, 0, 0), (0, 0, 0), (0, 0, 0), (0, 0, 0), (0, 0, 0), (0, 0, 0), (0, 0, 0), (0, 0, 0), (255, 255, 255), (255, 255, 255), (255, 255, 255), (0, 0, 0), (0, 0, 0), (0, 0, 0), (0, 0, 0), (0, 0, 0), (0, 0, 0), (0, 0, 0), (0, 0, 0), (0, 0, 0), (0, 0, 0), (0, 0, 0), (0, 0, 0), (0, 0, 0), (0, 0, 0), (0, 0, 0), (0, 0, 0), (0, 0, 0), (0, 0, 0), (0, 0, 0), (0, 0, 0), (0, 0, 0), (0, 0, 0), (0, 0, 0), (0, 0, 0), (0, 0, 0), (255, 255, 255), (255, 255, 255), (255, 255, 255), (0, 0, 0), (0, 0, 0), (0, 0, 0), (0, 0, 0), (0, 0, 0), (0, 0, 0), (0, 0, 0), (0, 0, 0), (0, 0, 0), (0, 0, 0), (0, 0, 0), (0, 0, 0), (0, 0, 0), (0, 0, 0), (0, 0, 0), (0, 0, 0), (0, 0, 0), (0, 0, 0), (0, 0, 0), (0, 0, 0), (0, 0, 0), (0, 0, 0), (0, 0, 0), (0, 0, 0), (255, 255, 255), (255, 255, 255), (255, 255, 255), (255, 255, 255), (0, 0, 0), (0, 0, 0), (0, 0, 0), (0, 0, 0), (0, 0, 0), (0, 0, 0), (0, 0, 0), (0, 0, 0), (0, 0, 0), (0, 0, 0), (0, 0, 0), (0, 0, 0), (0, 0, 0), (0, 0, 0), (0, 0, 0), (0, 0, 0), (0, 0, 0), (0, 0, 0), (0, 0, 0), (0, 0, 0), (255, 255, 255), (255, 255, 255), (255, 255, 255), (255, 255, 255), (255, 255, 255), (255, 255, 255), (255, 255, 255), (255, 255, 255), (0, 0, 0), (0, 0, 0), (0, 0, 0), (0, 0, 0), (0, 0, 0), (0, 0, 0), (0, 0, 0), (0, 0, 0), (0, 0, 0), (0, 0, 0), (0, 0, 0), (0, 0, 0), (0, 0, 0), (0, 0, 0), (0, 0, 0), (0, 0, 0), (0, 0, 0), (0, 0, 0), (0, 0, 0), (255, 255, 255), (255, 255, 255), (255, 255, 255), (255, 255, 255), (255, 255, 255), (255, 255, 255), (255, 255, 255), (255, 255, 255), (255, 255, 255), (0, 0, 0), (0, 0, 0), (0, 0, 0), (0, 0, 0), (0, 0, 0), (0, 0, 0), (0, 0, 0), (0, 0, 0), (0, 0, 0), (0, 0, 0), (0, 0, 0), (0, 0, 0), (0, 0, 0), (0, 0, 0), (0, 0, 0), (0, 0, 0), (0, 0, 0), (0, 0, 0), (0, 0, 0), (0, 0, 0), (0, 0, 0), (0, 0, 0), (0, 0, 0), (0, 0, 0), (255, 255, 255), (255, 255, 255), (255, 255, 255), (255, 255, 255), (0, 0, 0), (0, 0, 0), (0, 0, 0), (0, 0, 0), (0, 0, 0), (0, 0, 0), (0, 0, 0), (0, 0, 0), (0, 0, 0), (0, 0, 0), (0, 0, 0), (0, 0, 0), (0, 0, 0), (0, 0, 0), (0, 0, 0), (0, 0, 0), (0, 0, 0), (0, 0, 0), (0, 0, 0), (0, 0, 0), (0, 0, 0), (0, 0, 0), (0, 0, 0), (0, 0, 0), (0, 0, 0), (255, 255, 255), (255, 255, 255), (255, 255, 255), (0, 0, 0), (0, 0, 0), (0, 0, 0), (0, 0, 0), (0, 0, 0), (0, 0, 0), (0, 0, 0), (0, 0, 0), (0, 0, 0), (0, 0, 0), (0, 0, 0), (0, 0, 0), (0, 0, 0), (0, 0, 0), (0, 0, 0), (0, 0, 0), (0, 0, 0), (0, 0, 0), (0, 0, 0), (0, 0, 0), (0, 0, 0), (0, 0, 0), (0, 0, 0), (0, 0, 0), (0, 0, 0), (255, 255, 255), (255, 255, 255), (255, 255, 255), (0, 0, 0), (0, 0, 0), (0, 0, 0), (0, 0, 0), (0, 0, 0), (0, 0, 0), (0, 0, 0), (0, 0, 0), (0, 0, 0), (0, 0, 0), (0, 0, 0), (0, 0, 0), (0, 0, 0), (0, 0, 0), (0, 0, 0), (0, 0, 0), (0, 0, 0), (0, 0, 0), (0, 0, 0), (0, 0, 0), (0, 0, 0), (0, 0, 0), (0, 0, 0), (0, 0, 0), (0, 0, 0), (255, 255, 255), (255, 255, 255), (255, 255, 255), (0, 0, 0), (0, 0, 0), (0, 0, 0), (0, 0, 0), (0, 0, 0), (0, 0, 0), (0, 0, 0), (0, 0, 0), (0, 0, 0), (0, 0, 0), (0, 0, 0), (0, 0, 0), (0, 0, 0), (0, 0, 0), (0, 0, 0), (0, 0, 0), (0, 0, 0), (0, 0, 0), (0, 0, 0), (0, 0, 0), (0, 0, 0), (0, 0, 0), (0, 0, 0), (0, 0, 0), (255, 255, 255), (255, 255, 255), (255, 255, 255), (0, 0, 0), (0, 0, 0), (0, 0, 0), (0, 0, 0), (0, 0, 0), (0, 0, 0), (0, 0, 0), (0, 0, 0), (0, 0, 0), (0, 0, 0), (0, 0, 0), (0, 0, 0), (0, 0, 0), (0, 0, 0), (0, 0, 0), (0, 0, 0), (255, 255, 255), (255, 255, 255), (0, 0, 0), (0, 0, 0), (0, 0, 0), (0, 0, 0), (0, 0, 0), (0, 0, 0), (255, 255, 255), (255, 255, 255), (255, 255, 255), (0, 0, 0), (0, 0, 0), (0, 0, 0), (0, 0, 0), (0, 0, 0), (0, 0, 0), (0, 0, 0), (0, 0, 0), (0, 0, 0), (0, 0, 0), (0, 0, 0), (0, 0, 0), (0, 0, 0), (0, 0, 0), (0, 0, 0), (0, 0, 0), (0, 0, 0), (255, 255, 255), (255, 255, 255), (255, 255, 255), (255, 255, 255), (255, 255, 255), (255, 255, 255), (255, 255, 255), (255, 255, 255), (255, 255, 255), (255, 255, 255), (255, 255, 255), (0, 0, 0), (0, 0, 0), (0, 0, 0), (0, 0, 0), (0, 0, 0), (0, 0, 0), (0, 0, 0), (0, 0, 0), (0, 0, 0), (0, 0, 0), (0, 0, 0), (0, 0, 0), (0, 0, 0), (0, 0, 0), (0, 0, 0), (0, 0, 0), (0, 0, 0), (255, 255, 255), (255, 255, 255), (255, 255, 255), (255, 255, 255), (255, 255, 255), (255, 255, 255), (255, 255, 255), (255, 255, 255), (255, 255, 255), (255, 255, 255), (0, 0, 0), (0, 0, 0), (0, 0, 0), (0, 0, 0), (0, 0, 0), (0, 0, 0), (0, 0, 0), (0, 0, 0), (0, 0, 0), (0, 0, 0), (0, 0, 0), (0, 0, 0), (0, 0, 0), (0, 0, 0), (0, 0, 0), (0, 0, 0), (0, 0, 0), (0, 0, 0), (0, 0, 0), (255, 255, 255), (255, 255, 255), (255, 255, 255), (255, 255, 255), (255, 255, 255), (0, 0, 0), (0, 0, 0), (0, 0, 0), (0, 0, 0), (0, 0, 0), (0, 0, 0), (0, 0, 0), (0, 0, 0), (0, 0, 0), (0, 0, 0), (0, 0, 0), (0, 0, 0), (0, 0, 0), (0, 0, 0), (0, 0, 0), (0, 0, 0), (0, 0, 0), (0, 0, 0), (0, 0, 0), (0, 0, 0), (0, 0, 0), (0, 0, 0), (0, 0, 0), (0, 0, 0), (0, 0, 0), (0, 0, 0), (0, 0, 0), (0, 0, 0), (0, 0, 0), (0, 0, 0), (0, 0, 0), (0, 0, 0), (0, 0, 0), (0, 0, 0), (0, 0, 0), (0, 0, 0), (0, 0, 0), (0, 0, 0), (0, 0, 0), (0, 0, 0), (0, 0, 0), (0, 0, 0), (0, 0, 0), (0, 0, 0), (0, 0, 0), (0, 0, 0), (0, 0, 0), (0, 0, 0), (0, 0, 0), (0, 0, 0), (0, 0, 0), (0, 0, 0), (0, 0, 0), (0, 0, 0), (0, 0, 0), (0, 0, 0), (0, 0, 0), (0, 0, 0), (0, 0, 0), (0, 0, 0), (0, 0, 0), (0, 0, 0), (0, 0, 0), (0, 0, 0), (0, 0, 0), (0, 0, 0), (0, 0, 0), (0, 0, 0), (0, 0, 0), (0, 0, 0), (0, 0, 0), (0, 0, 0), (0, 0, 0), (0, 0, 0), (0, 0, 0), (0, 0, 0), (0, 0, 0), (0, 0, 0), (0, 0, 0), (0, 0, 0), (0, 0, 0), (0, 0, 0), (0, 0, 0), (0, 0, 0), (0, 0, 0), (0, 0, 0), (0, 0, 0), (0, 0, 0), (0, 0, 0), (0, 0, 0), (0, 0, 0), (0, 0, 0), (0, 0, 0), (0, 0, 0), (0, 0, 0), (0, 0, 0), (0, 0, 0), (0, 0, 0), (0, 0, 0), (0, 0, 0), (0, 0, 0), (0, 0, 0), (0, 0, 0), (0, 0, 0), (0, 0, 0), (0, 0, 0), (0, 0, 0), (0, 0, 0), (0, 0, 0), (0, 0, 0), (0, 0, 0), (0, 0, 0), (0, 0, 0), (0, 0, 0), (0, 0, 0), (0, 0, 0), (0, 0, 0), (0, 0, 0), (0, 0, 0), (0, 0, 0), (0, 0, 0), (0, 0, 0), (0, 0, 0), (0, 0, 0), (0, 0, 0), (0, 0, 0), (0, 0, 0), (0, 0, 0), (0, 0, 0), (0, 0, 0), (0, 0, 0), (0, 0, 0), (0, 0, 0), (0, 0, 0), (0, 0, 0), (0, 0, 0), (0, 0, 0), (0, 0, 0), (0, 0, 0), (0, 0, 0), (0, 0, 0), (0, 0, 0), (0, 0, 0), (0, 0, 0), (0, 0, 0), (0, 0, 0), (0, 0, 0), (0, 0, 0), (0, 0, 0), (0, 0, 0), (0, 0, 0), (0, 0, 0), (0, 0, 0), (0, 0, 0), (0, 0, 0), (0, 0, 0), (0, 0, 0), (0, 0, 0), (0, 0, 0), (0, 0, 0), (0, 0, 0), (0, 0, 0), (0, 0, 0), (0, 0, 0), (0, 0, 0), (0, 0, 0), (0, 0, 0), (0, 0, 0), (0, 0, 0), (0, 0, 0), (0, 0, 0), (0, 0, 0), (0, 0, 0), (0, 0, 0), (0, 0, 0), (0, 0, 0), (0, 0, 0), (0, 0, 0), (0, 0, 0), (0, 0, 0), (0, 0, 0), (0, 0, 0), (0, 0, 0)]\n"
     ]
    }
   ],
   "source": [
    "from PIL import Image\n",
    "im = Image.open('./data/numberCheck2.png', 'r')\n",
    "width, height = im.size\n",
    "pixel_values = list(im.getdata())\n",
    "print(width,height)\n",
    "print(pixel_values)"
   ]
  },
  {
   "cell_type": "code",
   "execution_count": 197,
   "metadata": {},
   "outputs": [
    {
     "ename": "ValueError",
     "evalue": "cannot reshape array of size 2352 into shape (28,28)",
     "output_type": "error",
     "traceback": [
      "\u001b[1;31m---------------------------------------------------------------------------\u001b[0m",
      "\u001b[1;31mValueError\u001b[0m                                Traceback (most recent call last)",
      "\u001b[1;32m<ipython-input-197-26633bb8df21>\u001b[0m in \u001b[0;36m<module>\u001b[1;34m\u001b[0m\n\u001b[1;32m----> 1\u001b[1;33m \u001b[0mnp\u001b[0m\u001b[1;33m.\u001b[0m\u001b[0marray\u001b[0m\u001b[1;33m(\u001b[0m\u001b[0mpixel_values\u001b[0m\u001b[1;33m)\u001b[0m\u001b[1;33m.\u001b[0m\u001b[0mreshape\u001b[0m\u001b[1;33m(\u001b[0m\u001b[1;36m28\u001b[0m\u001b[1;33m,\u001b[0m\u001b[1;36m28\u001b[0m\u001b[1;33m)\u001b[0m\u001b[1;33m\u001b[0m\u001b[1;33m\u001b[0m\u001b[0m\n\u001b[0m",
      "\u001b[1;31mValueError\u001b[0m: cannot reshape array of size 2352 into shape (28,28)"
     ]
    }
   ],
   "source": [
    "np.array(pixel_values).reshape(28,28)"
   ]
  },
  {
   "cell_type": "code",
   "execution_count": null,
   "metadata": {},
   "outputs": [],
   "source": []
  },
  {
   "cell_type": "code",
   "execution_count": null,
   "metadata": {},
   "outputs": [],
   "source": []
  },
  {
   "cell_type": "code",
   "execution_count": null,
   "metadata": {},
   "outputs": [],
   "source": []
  },
  {
   "cell_type": "code",
   "execution_count": null,
   "metadata": {},
   "outputs": [],
   "source": []
  },
  {
   "cell_type": "code",
   "execution_count": null,
   "metadata": {},
   "outputs": [],
   "source": []
  },
  {
   "cell_type": "code",
   "execution_count": null,
   "metadata": {},
   "outputs": [],
   "source": []
  },
  {
   "cell_type": "code",
   "execution_count": null,
   "metadata": {},
   "outputs": [],
   "source": []
  },
  {
   "cell_type": "code",
   "execution_count": null,
   "metadata": {},
   "outputs": [],
   "source": []
  },
  {
   "cell_type": "code",
   "execution_count": null,
   "metadata": {},
   "outputs": [],
   "source": []
  },
  {
   "cell_type": "code",
   "execution_count": null,
   "metadata": {},
   "outputs": [],
   "source": []
  },
  {
   "cell_type": "code",
   "execution_count": null,
   "metadata": {},
   "outputs": [],
   "source": []
  },
  {
   "cell_type": "code",
   "execution_count": null,
   "metadata": {},
   "outputs": [],
   "source": []
  },
  {
   "cell_type": "code",
   "execution_count": null,
   "metadata": {},
   "outputs": [],
   "source": []
  },
  {
   "cell_type": "code",
   "execution_count": null,
   "metadata": {},
   "outputs": [],
   "source": []
  },
  {
   "cell_type": "code",
   "execution_count": null,
   "metadata": {},
   "outputs": [],
   "source": []
  },
  {
   "cell_type": "code",
   "execution_count": null,
   "metadata": {},
   "outputs": [],
   "source": []
  },
  {
   "cell_type": "code",
   "execution_count": null,
   "metadata": {},
   "outputs": [],
   "source": []
  },
  {
   "cell_type": "code",
   "execution_count": null,
   "metadata": {},
   "outputs": [],
   "source": []
  },
  {
   "cell_type": "code",
   "execution_count": null,
   "metadata": {},
   "outputs": [],
   "source": []
  },
  {
   "cell_type": "code",
   "execution_count": null,
   "metadata": {},
   "outputs": [],
   "source": []
  },
  {
   "cell_type": "code",
   "execution_count": null,
   "metadata": {},
   "outputs": [],
   "source": []
  },
  {
   "cell_type": "code",
   "execution_count": null,
   "metadata": {},
   "outputs": [],
   "source": []
  },
  {
   "cell_type": "code",
   "execution_count": null,
   "metadata": {},
   "outputs": [],
   "source": []
  },
  {
   "cell_type": "code",
   "execution_count": null,
   "metadata": {},
   "outputs": [],
   "source": []
  }
 ],
 "metadata": {
  "kernelspec": {
   "display_name": "Python 3",
   "language": "python",
   "name": "python3"
  },
  "language_info": {
   "codemirror_mode": {
    "name": "ipython",
    "version": 3
   },
   "file_extension": ".py",
   "mimetype": "text/x-python",
   "name": "python",
   "nbconvert_exporter": "python",
   "pygments_lexer": "ipython3",
   "version": "3.7.6"
  }
 },
 "nbformat": 4,
 "nbformat_minor": 4
}
